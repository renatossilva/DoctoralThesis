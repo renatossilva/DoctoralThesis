{
  "nbformat": 4,
  "nbformat_minor": 0,
  "metadata": {
    "colab": {
      "name": "trab-Renato-day19only.ipynb",
      "provenance": [],
      "toc_visible": true,
      "include_colab_link": true
    },
    "kernelspec": {
      "name": "python3",
      "display_name": "Python 3"
    },
    "language_info": {
      "name": "python"
    }
  },
  "cells": [
    {
      "cell_type": "markdown",
      "metadata": {
        "id": "view-in-github",
        "colab_type": "text"
      },
      "source": [
        "<a href=\"https://colab.research.google.com/github/renatossilva/DoctoralThesis/blob/main/trab_Renato_day19only_NeuralNetwork.ipynb\" target=\"_parent\"><img src=\"https://colab.research.google.com/assets/colab-badge.svg\" alt=\"Open In Colab\"/></a>"
      ]
    },
    {
      "cell_type": "markdown",
      "metadata": {
        "id": "G2q0LjzKFCN7"
      },
      "source": [
        "# Libraries and stuff"
      ]
    },
    {
      "cell_type": "code",
      "metadata": {
        "id": "-Zilk4OKARzp"
      },
      "source": [
        "import pandas as pd\n",
        "import numpy as np\n",
        "\n",
        "import matplotlib.pyplot as plt\n",
        "import seaborn as sns\n",
        "\n",
        "from sklearn.cluster import AgglomerativeClustering\n",
        "import scipy.cluster.hierarchy as sch"
      ],
      "execution_count": null,
      "outputs": []
    },
    {
      "cell_type": "code",
      "metadata": {
        "colab": {
          "base_uri": "https://localhost:8080/"
        },
        "id": "7CyEERMdAYye",
        "outputId": "5d60883a-9f0f-4b0b-edec-0a16b4c66ecb"
      },
      "source": [
        "from google.colab import drive\n",
        "file = '/content/drive/'\n",
        "drive.mount(file)"
      ],
      "execution_count": null,
      "outputs": [
        {
          "output_type": "stream",
          "name": "stdout",
          "text": [
            "Mounted at /content/drive/\n"
          ]
        }
      ]
    },
    {
      "cell_type": "markdown",
      "metadata": {
        "id": "apf3RkkCoKZa"
      },
      "source": [
        "## Escolher uma pasta: "
      ]
    },
    {
      "cell_type": "code",
      "metadata": {
        "colab": {
          "base_uri": "https://localhost:8080/"
        },
        "id": "BTEsQGDUAZJz",
        "outputId": "44d286e2-2399-4602-eb94-9d2bd3dc92db"
      },
      "source": [
        "# Drive do Vitor\n",
        "%cd /content/drive/MyDrive/Trabalho-Renato/"
      ],
      "execution_count": null,
      "outputs": [
        {
          "output_type": "stream",
          "text": [
            "/content/drive/MyDrive/Trabalho-Renato\n"
          ],
          "name": "stdout"
        }
      ]
    },
    {
      "cell_type": "code",
      "metadata": {
        "id": "Dpye-LIcvg-X",
        "colab": {
          "base_uri": "https://localhost:8080/"
        },
        "outputId": "878684f8-8651-4d6e-ccb3-6be3c4f199aa"
      },
      "source": [
        "# Drive do Renato\n",
        "%cd /content/drive/My Drive/Tese/AI_tests"
      ],
      "execution_count": null,
      "outputs": [
        {
          "output_type": "stream",
          "name": "stdout",
          "text": [
            "/content/drive/My Drive/Tese/AI_tests\n"
          ]
        }
      ]
    },
    {
      "cell_type": "markdown",
      "metadata": {
        "id": "MQFZXtLIFAx-"
      },
      "source": [
        "# Carregando os dados"
      ]
    },
    {
      "cell_type": "markdown",
      "metadata": {
        "id": "H43gW0kclCzx"
      },
      "source": [
        "## Carregando o dataset do Renato"
      ]
    },
    {
      "cell_type": "code",
      "metadata": {
        "colab": {
          "base_uri": "https://localhost:8080/"
        },
        "id": "d-uKaPNQBcQ4",
        "outputId": "40bb029a-0b40-4287-9b0f-caf4c764ff04"
      },
      "source": [
        "file_names = ['Normal_20011207_12-15_full.io', 'CodeRed_20011907_12-15_full.io']\n",
        "col_names = ['relatorio', 'time', 'BPG_type', 'anomaly', 'AS_peer', 'relevance_peer', 'threat_peer', 'AS_origin', 'relevance', 'relevance_avg', 'relevance_median', 'relevance_max', 'relevance_min', 'threat', 'threat_avg', 'threat_median', 'threat_max', 'threat_min', 'repetitions', 'length', 'origin_type']\n",
        "\n",
        "df_lst = []\n",
        "for file in file_names:\n",
        "  df = pd.read_csv(file, sep='|', names=col_names)\n",
        "  df_lst.append(df)\n",
        "df = pd.concat(df_lst, ignore_index=True)\n",
        "\n",
        "# Ajuste de tipos \n",
        "df['time'] = pd.to_datetime(df['time'], format='%m/%d/%y %H:%M:%S')\n",
        "df['AS_peer'] = pd.to_numeric(df['AS_peer'])"
      ],
      "execution_count": null,
      "outputs": [
        {
          "output_type": "stream",
          "name": "stderr",
          "text": [
            "/usr/local/lib/python3.7/dist-packages/IPython/core/interactiveshell.py:2718: DtypeWarning: Columns (7) have mixed types.Specify dtype option on import or set low_memory=False.\n",
            "  interactivity=interactivity, compiler=compiler, result=result)\n"
          ]
        }
      ]
    },
    {
      "cell_type": "markdown",
      "metadata": {
        "id": "dB7lODZ9lMWC"
      },
      "source": [
        "## Carregando o data set externo"
      ]
    },
    {
      "cell_type": "code",
      "metadata": {
        "id": "LSXxpQdWOp8r"
      },
      "source": [
        "file_names = ['dataset_CodeRed_513.csv', 'dataset_CodeRed_559.csv', 'dataset_CodeRed_6893.csv']\n",
        "df_lst = []\n",
        "for file in file_names:\n",
        "  df_red = pd.read_csv(file)\n",
        "  # Pega só o valor númerico (AS_peer) da string do arquivo\n",
        "  df_red['AS_peer'] = file.split('_')[-1][:-4]\n",
        "  df_lst.append(df_red)\n",
        "df_red = pd.concat(df_lst, ignore_index=True)\n",
        "\n",
        "# Deleta coluna que era apenas um índice\n",
        "df_red.drop(columns=['Unnamed: 0'], inplace=True)\n",
        "\n",
        "df_red['timestamp'] = pd.to_datetime(df_red['timestamp'], format='%Y-%m-%d %H:%M:%S')\n",
        "df_red['AS_peer'] = pd.to_numeric(df_red['AS_peer'])"
      ],
      "execution_count": null,
      "outputs": []
    },
    {
      "cell_type": "markdown",
      "metadata": {
        "id": "VDVEji0vlTHr"
      },
      "source": [
        "# Verificando duplicações"
      ]
    },
    {
      "cell_type": "code",
      "metadata": {
        "colab": {
          "base_uri": "https://localhost:8080/"
        },
        "id": "sLgUD9vbl5pv",
        "outputId": "7b64fe07-7cf7-474e-acd9-125ac7857762"
      },
      "source": [
        "print(f\"df original tem: {sum(df.duplicated())} cópias\")\n",
        "print(f\"df_red tem: {sum(df_red.duplicated())} cópias\")"
      ],
      "execution_count": null,
      "outputs": [
        {
          "output_type": "stream",
          "name": "stdout",
          "text": [
            "df original tem: 85043 cópias\n",
            "df_red tem: 30 cópias\n"
          ]
        }
      ]
    },
    {
      "cell_type": "code",
      "metadata": {
        "colab": {
          "base_uri": "https://localhost:8080/",
          "height": 617
        },
        "id": "n_GHa-03gPpf",
        "outputId": "6d94daa1-baf0-45f9-a8c3-71418cc243f6"
      },
      "source": [
        "# df sem cópias\n",
        "df_unique = df.groupby(df.columns.tolist()).size().reset_index().rename(columns={0:'records'}).sort_values('time')\n",
        "df_unique"
      ],
      "execution_count": null,
      "outputs": [
        {
          "output_type": "execute_result",
          "data": {
            "text/html": [
              "<div>\n",
              "<style scoped>\n",
              "    .dataframe tbody tr th:only-of-type {\n",
              "        vertical-align: middle;\n",
              "    }\n",
              "\n",
              "    .dataframe tbody tr th {\n",
              "        vertical-align: top;\n",
              "    }\n",
              "\n",
              "    .dataframe thead th {\n",
              "        text-align: right;\n",
              "    }\n",
              "</style>\n",
              "<table border=\"1\" class=\"dataframe\">\n",
              "  <thead>\n",
              "    <tr style=\"text-align: right;\">\n",
              "      <th></th>\n",
              "      <th>relatorio</th>\n",
              "      <th>time</th>\n",
              "      <th>BPG_type</th>\n",
              "      <th>anomaly</th>\n",
              "      <th>AS_peer</th>\n",
              "      <th>relevance_peer</th>\n",
              "      <th>threat_peer</th>\n",
              "      <th>AS_origin</th>\n",
              "      <th>relevance</th>\n",
              "      <th>relevance_avg</th>\n",
              "      <th>relevance_median</th>\n",
              "      <th>relevance_max</th>\n",
              "      <th>relevance_min</th>\n",
              "      <th>threat</th>\n",
              "      <th>threat_avg</th>\n",
              "      <th>threat_median</th>\n",
              "      <th>threat_max</th>\n",
              "      <th>threat_min</th>\n",
              "      <th>repetitions</th>\n",
              "      <th>length</th>\n",
              "      <th>origin_type</th>\n",
              "      <th>records</th>\n",
              "    </tr>\n",
              "  </thead>\n",
              "  <tbody>\n",
              "    <tr>\n",
              "      <th>0</th>\n",
              "      <td>BGP4MP</td>\n",
              "      <td>2001-07-12 12:04:59</td>\n",
              "      <td>A</td>\n",
              "      <td>0</td>\n",
              "      <td>513</td>\n",
              "      <td>0.000302</td>\n",
              "      <td>0.0</td>\n",
              "      <td>11561</td>\n",
              "      <td>0.000014</td>\n",
              "      <td>0.004057</td>\n",
              "      <td>0.000014</td>\n",
              "      <td>0.028571</td>\n",
              "      <td>0.000014</td>\n",
              "      <td>0.000000</td>\n",
              "      <td>1.695605e-06</td>\n",
              "      <td>0.000014</td>\n",
              "      <td>0.028571</td>\n",
              "      <td>0.000014</td>\n",
              "      <td>10</td>\n",
              "      <td>4</td>\n",
              "      <td>0</td>\n",
              "      <td>2</td>\n",
              "    </tr>\n",
              "    <tr>\n",
              "      <th>1</th>\n",
              "      <td>BGP4MP</td>\n",
              "      <td>2001-07-12 12:04:59</td>\n",
              "      <td>A</td>\n",
              "      <td>0</td>\n",
              "      <td>513</td>\n",
              "      <td>0.000302</td>\n",
              "      <td>0.0</td>\n",
              "      <td>11960</td>\n",
              "      <td>0.000190</td>\n",
              "      <td>0.011371</td>\n",
              "      <td>0.000302</td>\n",
              "      <td>0.028571</td>\n",
              "      <td>0.000014</td>\n",
              "      <td>0.000000</td>\n",
              "      <td>4.747695e-06</td>\n",
              "      <td>0.000302</td>\n",
              "      <td>0.028571</td>\n",
              "      <td>0.000014</td>\n",
              "      <td>0</td>\n",
              "      <td>5</td>\n",
              "      <td>0</td>\n",
              "      <td>1</td>\n",
              "    </tr>\n",
              "    <tr>\n",
              "      <th>2</th>\n",
              "      <td>BGP4MP</td>\n",
              "      <td>2001-07-12 12:04:59</td>\n",
              "      <td>A</td>\n",
              "      <td>0</td>\n",
              "      <td>513</td>\n",
              "      <td>0.000302</td>\n",
              "      <td>0.0</td>\n",
              "      <td>11960</td>\n",
              "      <td>0.000190</td>\n",
              "      <td>0.016621</td>\n",
              "      <td>0.000190</td>\n",
              "      <td>0.071429</td>\n",
              "      <td>0.000014</td>\n",
              "      <td>0.000000</td>\n",
              "      <td>3.744455e-06</td>\n",
              "      <td>0.000190</td>\n",
              "      <td>0.071429</td>\n",
              "      <td>0.000014</td>\n",
              "      <td>0</td>\n",
              "      <td>6</td>\n",
              "      <td>0</td>\n",
              "      <td>1</td>\n",
              "    </tr>\n",
              "    <tr>\n",
              "      <th>3</th>\n",
              "      <td>BGP4MP</td>\n",
              "      <td>2001-07-12 12:04:59</td>\n",
              "      <td>A</td>\n",
              "      <td>0</td>\n",
              "      <td>513</td>\n",
              "      <td>0.000302</td>\n",
              "      <td>0.0</td>\n",
              "      <td>1580</td>\n",
              "      <td>0.000086</td>\n",
              "      <td>0.001028</td>\n",
              "      <td>0.000108</td>\n",
              "      <td>0.005208</td>\n",
              "      <td>0.000000</td>\n",
              "      <td>0.000000</td>\n",
              "      <td>1.758475e-07</td>\n",
              "      <td>0.000108</td>\n",
              "      <td>0.005208</td>\n",
              "      <td>0.000000</td>\n",
              "      <td>0</td>\n",
              "      <td>6</td>\n",
              "      <td>2</td>\n",
              "      <td>2</td>\n",
              "    </tr>\n",
              "    <tr>\n",
              "      <th>4</th>\n",
              "      <td>BGP4MP</td>\n",
              "      <td>2001-07-12 12:04:59</td>\n",
              "      <td>A</td>\n",
              "      <td>0</td>\n",
              "      <td>513</td>\n",
              "      <td>0.000302</td>\n",
              "      <td>0.0</td>\n",
              "      <td>1580</td>\n",
              "      <td>0.000086</td>\n",
              "      <td>0.002093</td>\n",
              "      <td>0.000302</td>\n",
              "      <td>0.005208</td>\n",
              "      <td>0.000086</td>\n",
              "      <td>0.000000</td>\n",
              "      <td>7.145876e-06</td>\n",
              "      <td>0.000302</td>\n",
              "      <td>0.005208</td>\n",
              "      <td>0.000086</td>\n",
              "      <td>0</td>\n",
              "      <td>5</td>\n",
              "      <td>0</td>\n",
              "      <td>1</td>\n",
              "    </tr>\n",
              "    <tr>\n",
              "      <th>...</th>\n",
              "      <td>...</td>\n",
              "      <td>...</td>\n",
              "      <td>...</td>\n",
              "      <td>...</td>\n",
              "      <td>...</td>\n",
              "      <td>...</td>\n",
              "      <td>...</td>\n",
              "      <td>...</td>\n",
              "      <td>...</td>\n",
              "      <td>...</td>\n",
              "      <td>...</td>\n",
              "      <td>...</td>\n",
              "      <td>...</td>\n",
              "      <td>...</td>\n",
              "      <td>...</td>\n",
              "      <td>...</td>\n",
              "      <td>...</td>\n",
              "      <td>...</td>\n",
              "      <td>...</td>\n",
              "      <td>...</td>\n",
              "      <td>...</td>\n",
              "      <td>...</td>\n",
              "    </tr>\n",
              "    <tr>\n",
              "      <th>37095</th>\n",
              "      <td>BGP4MP</td>\n",
              "      <td>2001-07-19 15:21:16</td>\n",
              "      <td>A</td>\n",
              "      <td>1</td>\n",
              "      <td>6893</td>\n",
              "      <td>0.000478</td>\n",
              "      <td>0.0</td>\n",
              "      <td>701</td>\n",
              "      <td>0.052632</td>\n",
              "      <td>0.036008</td>\n",
              "      <td>0.000478</td>\n",
              "      <td>0.090909</td>\n",
              "      <td>0.000014</td>\n",
              "      <td>0.000016</td>\n",
              "      <td>4.311825e-06</td>\n",
              "      <td>0.000478</td>\n",
              "      <td>0.090909</td>\n",
              "      <td>0.000014</td>\n",
              "      <td>0</td>\n",
              "      <td>4</td>\n",
              "      <td>0</td>\n",
              "      <td>1</td>\n",
              "    </tr>\n",
              "    <tr>\n",
              "      <th>37094</th>\n",
              "      <td>BGP4MP</td>\n",
              "      <td>2001-07-19 15:21:16</td>\n",
              "      <td>A</td>\n",
              "      <td>1</td>\n",
              "      <td>6893</td>\n",
              "      <td>0.000478</td>\n",
              "      <td>0.0</td>\n",
              "      <td>568</td>\n",
              "      <td>0.000014</td>\n",
              "      <td>0.008146</td>\n",
              "      <td>0.000478</td>\n",
              "      <td>0.028571</td>\n",
              "      <td>0.000014</td>\n",
              "      <td>0.000000</td>\n",
              "      <td>1.710806e-06</td>\n",
              "      <td>0.000478</td>\n",
              "      <td>0.028571</td>\n",
              "      <td>0.000014</td>\n",
              "      <td>0</td>\n",
              "      <td>4</td>\n",
              "      <td>0</td>\n",
              "      <td>2</td>\n",
              "    </tr>\n",
              "    <tr>\n",
              "      <th>37121</th>\n",
              "      <td>BGP4MP</td>\n",
              "      <td>2001-07-19 15:21:16</td>\n",
              "      <td>A</td>\n",
              "      <td>1</td>\n",
              "      <td>6893</td>\n",
              "      <td>0.000478</td>\n",
              "      <td>0.0</td>\n",
              "      <td>15705</td>\n",
              "      <td>0.000000</td>\n",
              "      <td>0.000508</td>\n",
              "      <td>0.000000</td>\n",
              "      <td>0.003521</td>\n",
              "      <td>0.000000</td>\n",
              "      <td>0.000000</td>\n",
              "      <td>7.505861e-08</td>\n",
              "      <td>0.000000</td>\n",
              "      <td>0.003521</td>\n",
              "      <td>0.000000</td>\n",
              "      <td>2</td>\n",
              "      <td>6</td>\n",
              "      <td>0</td>\n",
              "      <td>1</td>\n",
              "    </tr>\n",
              "    <tr>\n",
              "      <th>37107</th>\n",
              "      <td>BGP4MP</td>\n",
              "      <td>2001-07-19 15:21:16</td>\n",
              "      <td>A</td>\n",
              "      <td>1</td>\n",
              "      <td>6893</td>\n",
              "      <td>0.000478</td>\n",
              "      <td>0.0</td>\n",
              "      <td>8342</td>\n",
              "      <td>0.000429</td>\n",
              "      <td>0.100888</td>\n",
              "      <td>0.000478</td>\n",
              "      <td>0.500000</td>\n",
              "      <td>0.000014</td>\n",
              "      <td>0.000479</td>\n",
              "      <td>1.064037e-04</td>\n",
              "      <td>0.000478</td>\n",
              "      <td>0.500000</td>\n",
              "      <td>0.000014</td>\n",
              "      <td>0</td>\n",
              "      <td>5</td>\n",
              "      <td>2</td>\n",
              "      <td>33</td>\n",
              "    </tr>\n",
              "    <tr>\n",
              "      <th>37122</th>\n",
              "      <td>BGP4MP</td>\n",
              "      <td>2001-07-19 15:21:16</td>\n",
              "      <td>A</td>\n",
              "      <td>1</td>\n",
              "      <td>6893</td>\n",
              "      <td>0.000478</td>\n",
              "      <td>0.0</td>\n",
              "      <td>19077</td>\n",
              "      <td>0.000014</td>\n",
              "      <td>0.015091</td>\n",
              "      <td>0.000478</td>\n",
              "      <td>0.071429</td>\n",
              "      <td>0.000014</td>\n",
              "      <td>0.000000</td>\n",
              "      <td>1.114295e-06</td>\n",
              "      <td>0.000478</td>\n",
              "      <td>0.071429</td>\n",
              "      <td>0.000014</td>\n",
              "      <td>0</td>\n",
              "      <td>5</td>\n",
              "      <td>0</td>\n",
              "      <td>6</td>\n",
              "    </tr>\n",
              "  </tbody>\n",
              "</table>\n",
              "<p>37123 rows × 22 columns</p>\n",
              "</div>"
            ],
            "text/plain": [
              "      relatorio                time BPG_type  ...  length  origin_type  records\n",
              "0        BGP4MP 2001-07-12 12:04:59        A  ...       4            0        2\n",
              "1        BGP4MP 2001-07-12 12:04:59        A  ...       5            0        1\n",
              "2        BGP4MP 2001-07-12 12:04:59        A  ...       6            0        1\n",
              "3        BGP4MP 2001-07-12 12:04:59        A  ...       6            2        2\n",
              "4        BGP4MP 2001-07-12 12:04:59        A  ...       5            0        1\n",
              "...         ...                 ...      ...  ...     ...          ...      ...\n",
              "37095    BGP4MP 2001-07-19 15:21:16        A  ...       4            0        1\n",
              "37094    BGP4MP 2001-07-19 15:21:16        A  ...       4            0        2\n",
              "37121    BGP4MP 2001-07-19 15:21:16        A  ...       6            0        1\n",
              "37107    BGP4MP 2001-07-19 15:21:16        A  ...       5            2       33\n",
              "37122    BGP4MP 2001-07-19 15:21:16        A  ...       5            0        6\n",
              "\n",
              "[37123 rows x 22 columns]"
            ]
          },
          "metadata": {},
          "execution_count": 9
        }
      ]
    },
    {
      "cell_type": "code",
      "metadata": {
        "colab": {
          "base_uri": "https://localhost:8080/",
          "height": 617
        },
        "id": "xGYDX8HJzSPt",
        "outputId": "8b649bdb-66fd-41e7-f66c-aa0a1b07adf1"
      },
      "source": [
        "df_unique"
      ],
      "execution_count": null,
      "outputs": [
        {
          "output_type": "execute_result",
          "data": {
            "text/html": [
              "<div>\n",
              "<style scoped>\n",
              "    .dataframe tbody tr th:only-of-type {\n",
              "        vertical-align: middle;\n",
              "    }\n",
              "\n",
              "    .dataframe tbody tr th {\n",
              "        vertical-align: top;\n",
              "    }\n",
              "\n",
              "    .dataframe thead th {\n",
              "        text-align: right;\n",
              "    }\n",
              "</style>\n",
              "<table border=\"1\" class=\"dataframe\">\n",
              "  <thead>\n",
              "    <tr style=\"text-align: right;\">\n",
              "      <th></th>\n",
              "      <th>relatorio</th>\n",
              "      <th>time</th>\n",
              "      <th>BPG_type</th>\n",
              "      <th>anomaly</th>\n",
              "      <th>AS_peer</th>\n",
              "      <th>relevance_peer</th>\n",
              "      <th>threat_peer</th>\n",
              "      <th>AS_origin</th>\n",
              "      <th>relevance</th>\n",
              "      <th>relevance_avg</th>\n",
              "      <th>relevance_median</th>\n",
              "      <th>relevance_max</th>\n",
              "      <th>relevance_min</th>\n",
              "      <th>threat</th>\n",
              "      <th>threat_avg</th>\n",
              "      <th>threat_median</th>\n",
              "      <th>threat_max</th>\n",
              "      <th>threat_min</th>\n",
              "      <th>repetitions</th>\n",
              "      <th>length</th>\n",
              "      <th>origin_type</th>\n",
              "      <th>records</th>\n",
              "    </tr>\n",
              "  </thead>\n",
              "  <tbody>\n",
              "    <tr>\n",
              "      <th>0</th>\n",
              "      <td>BGP4MP</td>\n",
              "      <td>2001-07-12 12:04:59</td>\n",
              "      <td>A</td>\n",
              "      <td>0</td>\n",
              "      <td>513</td>\n",
              "      <td>0.000302</td>\n",
              "      <td>0.0</td>\n",
              "      <td>11561</td>\n",
              "      <td>0.000014</td>\n",
              "      <td>0.004057</td>\n",
              "      <td>0.000014</td>\n",
              "      <td>0.028571</td>\n",
              "      <td>0.000014</td>\n",
              "      <td>0.000000</td>\n",
              "      <td>1.695605e-06</td>\n",
              "      <td>0.000014</td>\n",
              "      <td>0.028571</td>\n",
              "      <td>0.000014</td>\n",
              "      <td>10</td>\n",
              "      <td>4</td>\n",
              "      <td>0</td>\n",
              "      <td>2</td>\n",
              "    </tr>\n",
              "    <tr>\n",
              "      <th>1</th>\n",
              "      <td>BGP4MP</td>\n",
              "      <td>2001-07-12 12:04:59</td>\n",
              "      <td>A</td>\n",
              "      <td>0</td>\n",
              "      <td>513</td>\n",
              "      <td>0.000302</td>\n",
              "      <td>0.0</td>\n",
              "      <td>11960</td>\n",
              "      <td>0.000190</td>\n",
              "      <td>0.011371</td>\n",
              "      <td>0.000302</td>\n",
              "      <td>0.028571</td>\n",
              "      <td>0.000014</td>\n",
              "      <td>0.000000</td>\n",
              "      <td>4.747695e-06</td>\n",
              "      <td>0.000302</td>\n",
              "      <td>0.028571</td>\n",
              "      <td>0.000014</td>\n",
              "      <td>0</td>\n",
              "      <td>5</td>\n",
              "      <td>0</td>\n",
              "      <td>1</td>\n",
              "    </tr>\n",
              "    <tr>\n",
              "      <th>2</th>\n",
              "      <td>BGP4MP</td>\n",
              "      <td>2001-07-12 12:04:59</td>\n",
              "      <td>A</td>\n",
              "      <td>0</td>\n",
              "      <td>513</td>\n",
              "      <td>0.000302</td>\n",
              "      <td>0.0</td>\n",
              "      <td>11960</td>\n",
              "      <td>0.000190</td>\n",
              "      <td>0.016621</td>\n",
              "      <td>0.000190</td>\n",
              "      <td>0.071429</td>\n",
              "      <td>0.000014</td>\n",
              "      <td>0.000000</td>\n",
              "      <td>3.744455e-06</td>\n",
              "      <td>0.000190</td>\n",
              "      <td>0.071429</td>\n",
              "      <td>0.000014</td>\n",
              "      <td>0</td>\n",
              "      <td>6</td>\n",
              "      <td>0</td>\n",
              "      <td>1</td>\n",
              "    </tr>\n",
              "    <tr>\n",
              "      <th>3</th>\n",
              "      <td>BGP4MP</td>\n",
              "      <td>2001-07-12 12:04:59</td>\n",
              "      <td>A</td>\n",
              "      <td>0</td>\n",
              "      <td>513</td>\n",
              "      <td>0.000302</td>\n",
              "      <td>0.0</td>\n",
              "      <td>1580</td>\n",
              "      <td>0.000086</td>\n",
              "      <td>0.001028</td>\n",
              "      <td>0.000108</td>\n",
              "      <td>0.005208</td>\n",
              "      <td>0.000000</td>\n",
              "      <td>0.000000</td>\n",
              "      <td>1.758475e-07</td>\n",
              "      <td>0.000108</td>\n",
              "      <td>0.005208</td>\n",
              "      <td>0.000000</td>\n",
              "      <td>0</td>\n",
              "      <td>6</td>\n",
              "      <td>2</td>\n",
              "      <td>2</td>\n",
              "    </tr>\n",
              "    <tr>\n",
              "      <th>4</th>\n",
              "      <td>BGP4MP</td>\n",
              "      <td>2001-07-12 12:04:59</td>\n",
              "      <td>A</td>\n",
              "      <td>0</td>\n",
              "      <td>513</td>\n",
              "      <td>0.000302</td>\n",
              "      <td>0.0</td>\n",
              "      <td>1580</td>\n",
              "      <td>0.000086</td>\n",
              "      <td>0.002093</td>\n",
              "      <td>0.000302</td>\n",
              "      <td>0.005208</td>\n",
              "      <td>0.000086</td>\n",
              "      <td>0.000000</td>\n",
              "      <td>7.145876e-06</td>\n",
              "      <td>0.000302</td>\n",
              "      <td>0.005208</td>\n",
              "      <td>0.000086</td>\n",
              "      <td>0</td>\n",
              "      <td>5</td>\n",
              "      <td>0</td>\n",
              "      <td>1</td>\n",
              "    </tr>\n",
              "    <tr>\n",
              "      <th>...</th>\n",
              "      <td>...</td>\n",
              "      <td>...</td>\n",
              "      <td>...</td>\n",
              "      <td>...</td>\n",
              "      <td>...</td>\n",
              "      <td>...</td>\n",
              "      <td>...</td>\n",
              "      <td>...</td>\n",
              "      <td>...</td>\n",
              "      <td>...</td>\n",
              "      <td>...</td>\n",
              "      <td>...</td>\n",
              "      <td>...</td>\n",
              "      <td>...</td>\n",
              "      <td>...</td>\n",
              "      <td>...</td>\n",
              "      <td>...</td>\n",
              "      <td>...</td>\n",
              "      <td>...</td>\n",
              "      <td>...</td>\n",
              "      <td>...</td>\n",
              "      <td>...</td>\n",
              "    </tr>\n",
              "    <tr>\n",
              "      <th>37095</th>\n",
              "      <td>BGP4MP</td>\n",
              "      <td>2001-07-19 15:21:16</td>\n",
              "      <td>A</td>\n",
              "      <td>1</td>\n",
              "      <td>6893</td>\n",
              "      <td>0.000478</td>\n",
              "      <td>0.0</td>\n",
              "      <td>701</td>\n",
              "      <td>0.052632</td>\n",
              "      <td>0.036008</td>\n",
              "      <td>0.000478</td>\n",
              "      <td>0.090909</td>\n",
              "      <td>0.000014</td>\n",
              "      <td>0.000016</td>\n",
              "      <td>4.311825e-06</td>\n",
              "      <td>0.000478</td>\n",
              "      <td>0.090909</td>\n",
              "      <td>0.000014</td>\n",
              "      <td>0</td>\n",
              "      <td>4</td>\n",
              "      <td>0</td>\n",
              "      <td>1</td>\n",
              "    </tr>\n",
              "    <tr>\n",
              "      <th>37094</th>\n",
              "      <td>BGP4MP</td>\n",
              "      <td>2001-07-19 15:21:16</td>\n",
              "      <td>A</td>\n",
              "      <td>1</td>\n",
              "      <td>6893</td>\n",
              "      <td>0.000478</td>\n",
              "      <td>0.0</td>\n",
              "      <td>568</td>\n",
              "      <td>0.000014</td>\n",
              "      <td>0.008146</td>\n",
              "      <td>0.000478</td>\n",
              "      <td>0.028571</td>\n",
              "      <td>0.000014</td>\n",
              "      <td>0.000000</td>\n",
              "      <td>1.710806e-06</td>\n",
              "      <td>0.000478</td>\n",
              "      <td>0.028571</td>\n",
              "      <td>0.000014</td>\n",
              "      <td>0</td>\n",
              "      <td>4</td>\n",
              "      <td>0</td>\n",
              "      <td>2</td>\n",
              "    </tr>\n",
              "    <tr>\n",
              "      <th>37121</th>\n",
              "      <td>BGP4MP</td>\n",
              "      <td>2001-07-19 15:21:16</td>\n",
              "      <td>A</td>\n",
              "      <td>1</td>\n",
              "      <td>6893</td>\n",
              "      <td>0.000478</td>\n",
              "      <td>0.0</td>\n",
              "      <td>15705</td>\n",
              "      <td>0.000000</td>\n",
              "      <td>0.000508</td>\n",
              "      <td>0.000000</td>\n",
              "      <td>0.003521</td>\n",
              "      <td>0.000000</td>\n",
              "      <td>0.000000</td>\n",
              "      <td>7.505861e-08</td>\n",
              "      <td>0.000000</td>\n",
              "      <td>0.003521</td>\n",
              "      <td>0.000000</td>\n",
              "      <td>2</td>\n",
              "      <td>6</td>\n",
              "      <td>0</td>\n",
              "      <td>1</td>\n",
              "    </tr>\n",
              "    <tr>\n",
              "      <th>37107</th>\n",
              "      <td>BGP4MP</td>\n",
              "      <td>2001-07-19 15:21:16</td>\n",
              "      <td>A</td>\n",
              "      <td>1</td>\n",
              "      <td>6893</td>\n",
              "      <td>0.000478</td>\n",
              "      <td>0.0</td>\n",
              "      <td>8342</td>\n",
              "      <td>0.000429</td>\n",
              "      <td>0.100888</td>\n",
              "      <td>0.000478</td>\n",
              "      <td>0.500000</td>\n",
              "      <td>0.000014</td>\n",
              "      <td>0.000479</td>\n",
              "      <td>1.064037e-04</td>\n",
              "      <td>0.000478</td>\n",
              "      <td>0.500000</td>\n",
              "      <td>0.000014</td>\n",
              "      <td>0</td>\n",
              "      <td>5</td>\n",
              "      <td>2</td>\n",
              "      <td>33</td>\n",
              "    </tr>\n",
              "    <tr>\n",
              "      <th>37122</th>\n",
              "      <td>BGP4MP</td>\n",
              "      <td>2001-07-19 15:21:16</td>\n",
              "      <td>A</td>\n",
              "      <td>1</td>\n",
              "      <td>6893</td>\n",
              "      <td>0.000478</td>\n",
              "      <td>0.0</td>\n",
              "      <td>19077</td>\n",
              "      <td>0.000014</td>\n",
              "      <td>0.015091</td>\n",
              "      <td>0.000478</td>\n",
              "      <td>0.071429</td>\n",
              "      <td>0.000014</td>\n",
              "      <td>0.000000</td>\n",
              "      <td>1.114295e-06</td>\n",
              "      <td>0.000478</td>\n",
              "      <td>0.071429</td>\n",
              "      <td>0.000014</td>\n",
              "      <td>0</td>\n",
              "      <td>5</td>\n",
              "      <td>0</td>\n",
              "      <td>6</td>\n",
              "    </tr>\n",
              "  </tbody>\n",
              "</table>\n",
              "<p>37123 rows × 22 columns</p>\n",
              "</div>"
            ],
            "text/plain": [
              "      relatorio                time BPG_type  ...  length  origin_type  records\n",
              "0        BGP4MP 2001-07-12 12:04:59        A  ...       4            0        2\n",
              "1        BGP4MP 2001-07-12 12:04:59        A  ...       5            0        1\n",
              "2        BGP4MP 2001-07-12 12:04:59        A  ...       6            0        1\n",
              "3        BGP4MP 2001-07-12 12:04:59        A  ...       6            2        2\n",
              "4        BGP4MP 2001-07-12 12:04:59        A  ...       5            0        1\n",
              "...         ...                 ...      ...  ...     ...          ...      ...\n",
              "37095    BGP4MP 2001-07-19 15:21:16        A  ...       4            0        1\n",
              "37094    BGP4MP 2001-07-19 15:21:16        A  ...       4            0        2\n",
              "37121    BGP4MP 2001-07-19 15:21:16        A  ...       6            0        1\n",
              "37107    BGP4MP 2001-07-19 15:21:16        A  ...       5            2       33\n",
              "37122    BGP4MP 2001-07-19 15:21:16        A  ...       5            0        6\n",
              "\n",
              "[37123 rows x 22 columns]"
            ]
          },
          "metadata": {},
          "execution_count": 10
        }
      ]
    },
    {
      "cell_type": "code",
      "metadata": {
        "colab": {
          "base_uri": "https://localhost:8080/",
          "height": 617
        },
        "id": "KTdXrlFTjTeE",
        "outputId": "e4b126b2-1bfa-4531-cd1d-5bd65b03d0da"
      },
      "source": [
        "# df_red sem cópias\n",
        "df_red_unique = df_red.groupby(df_red.columns.tolist()).size().reset_index().rename(columns={0:'records'})\n",
        "df_red_unique"
      ],
      "execution_count": null,
      "outputs": [
        {
          "output_type": "execute_result",
          "data": {
            "text/html": [
              "<div>\n",
              "<style scoped>\n",
              "    .dataframe tbody tr th:only-of-type {\n",
              "        vertical-align: middle;\n",
              "    }\n",
              "\n",
              "    .dataframe tbody tr th {\n",
              "        vertical-align: top;\n",
              "    }\n",
              "\n",
              "    .dataframe thead th {\n",
              "        text-align: right;\n",
              "    }\n",
              "</style>\n",
              "<table border=\"1\" class=\"dataframe\">\n",
              "  <thead>\n",
              "    <tr style=\"text-align: right;\">\n",
              "      <th></th>\n",
              "      <th>ann_to_longer</th>\n",
              "      <th>ann_to_shorter</th>\n",
              "      <th>announcements</th>\n",
              "      <th>as_path_avg</th>\n",
              "      <th>as_path_max</th>\n",
              "      <th>class</th>\n",
              "      <th>dups</th>\n",
              "      <th>edit_distance_avg</th>\n",
              "      <th>edit_distance_dict_0</th>\n",
              "      <th>edit_distance_dict_1</th>\n",
              "      <th>edit_distance_dict_10</th>\n",
              "      <th>edit_distance_dict_2</th>\n",
              "      <th>edit_distance_dict_3</th>\n",
              "      <th>edit_distance_dict_4</th>\n",
              "      <th>edit_distance_dict_5</th>\n",
              "      <th>edit_distance_dict_6</th>\n",
              "      <th>edit_distance_dict_7</th>\n",
              "      <th>edit_distance_dict_8</th>\n",
              "      <th>edit_distance_dict_9</th>\n",
              "      <th>edit_distance_max</th>\n",
              "      <th>edit_distance_unique_dict_0</th>\n",
              "      <th>edit_distance_unique_dict_1</th>\n",
              "      <th>edit_distance_unique_dict_10</th>\n",
              "      <th>edit_distance_unique_dict_2</th>\n",
              "      <th>edit_distance_unique_dict_3</th>\n",
              "      <th>edit_distance_unique_dict_4</th>\n",
              "      <th>edit_distance_unique_dict_5</th>\n",
              "      <th>edit_distance_unique_dict_6</th>\n",
              "      <th>edit_distance_unique_dict_7</th>\n",
              "      <th>edit_distance_unique_dict_8</th>\n",
              "      <th>edit_distance_unique_dict_9</th>\n",
              "      <th>flaps</th>\n",
              "      <th>imp_wd</th>\n",
              "      <th>imp_wd_dpath</th>\n",
              "      <th>imp_wd_spath</th>\n",
              "      <th>nadas</th>\n",
              "      <th>news</th>\n",
              "      <th>nlri_ann</th>\n",
              "      <th>number_rare_ases</th>\n",
              "      <th>origin_0</th>\n",
              "      <th>origin_1</th>\n",
              "      <th>origin_2</th>\n",
              "      <th>origin_changes</th>\n",
              "      <th>rare_ases_avg</th>\n",
              "      <th>rare_ases_max</th>\n",
              "      <th>timestamp</th>\n",
              "      <th>timestamp2</th>\n",
              "      <th>unique_as_path_avg</th>\n",
              "      <th>unique_as_path_max</th>\n",
              "      <th>wd_dups</th>\n",
              "      <th>withdrawals</th>\n",
              "      <th>AS_peer</th>\n",
              "      <th>records</th>\n",
              "    </tr>\n",
              "  </thead>\n",
              "  <tbody>\n",
              "    <tr>\n",
              "      <th>0</th>\n",
              "      <td>0</td>\n",
              "      <td>0</td>\n",
              "      <td>0</td>\n",
              "      <td>0</td>\n",
              "      <td>0</td>\n",
              "      <td>0</td>\n",
              "      <td>0</td>\n",
              "      <td>0.000000</td>\n",
              "      <td>0</td>\n",
              "      <td>0</td>\n",
              "      <td>0</td>\n",
              "      <td>0</td>\n",
              "      <td>0</td>\n",
              "      <td>0</td>\n",
              "      <td>0</td>\n",
              "      <td>0</td>\n",
              "      <td>0</td>\n",
              "      <td>0</td>\n",
              "      <td>0</td>\n",
              "      <td>0</td>\n",
              "      <td>0</td>\n",
              "      <td>0</td>\n",
              "      <td>0</td>\n",
              "      <td>0</td>\n",
              "      <td>0</td>\n",
              "      <td>0</td>\n",
              "      <td>0</td>\n",
              "      <td>0</td>\n",
              "      <td>0</td>\n",
              "      <td>0</td>\n",
              "      <td>0</td>\n",
              "      <td>0</td>\n",
              "      <td>0</td>\n",
              "      <td>0</td>\n",
              "      <td>0</td>\n",
              "      <td>0</td>\n",
              "      <td>0</td>\n",
              "      <td>0</td>\n",
              "      <td>0</td>\n",
              "      <td>0</td>\n",
              "      <td>0</td>\n",
              "      <td>0</td>\n",
              "      <td>0</td>\n",
              "      <td>0.000000</td>\n",
              "      <td>0</td>\n",
              "      <td>2001-07-17 22:57:50</td>\n",
              "      <td>995410670</td>\n",
              "      <td>0</td>\n",
              "      <td>0</td>\n",
              "      <td>0</td>\n",
              "      <td>0</td>\n",
              "      <td>559</td>\n",
              "      <td>1</td>\n",
              "    </tr>\n",
              "    <tr>\n",
              "      <th>1</th>\n",
              "      <td>0</td>\n",
              "      <td>0</td>\n",
              "      <td>0</td>\n",
              "      <td>0</td>\n",
              "      <td>0</td>\n",
              "      <td>0</td>\n",
              "      <td>0</td>\n",
              "      <td>0.000000</td>\n",
              "      <td>0</td>\n",
              "      <td>0</td>\n",
              "      <td>0</td>\n",
              "      <td>0</td>\n",
              "      <td>0</td>\n",
              "      <td>0</td>\n",
              "      <td>0</td>\n",
              "      <td>0</td>\n",
              "      <td>0</td>\n",
              "      <td>0</td>\n",
              "      <td>0</td>\n",
              "      <td>0</td>\n",
              "      <td>0</td>\n",
              "      <td>0</td>\n",
              "      <td>0</td>\n",
              "      <td>0</td>\n",
              "      <td>0</td>\n",
              "      <td>0</td>\n",
              "      <td>0</td>\n",
              "      <td>0</td>\n",
              "      <td>0</td>\n",
              "      <td>0</td>\n",
              "      <td>0</td>\n",
              "      <td>0</td>\n",
              "      <td>0</td>\n",
              "      <td>0</td>\n",
              "      <td>0</td>\n",
              "      <td>0</td>\n",
              "      <td>0</td>\n",
              "      <td>0</td>\n",
              "      <td>0</td>\n",
              "      <td>0</td>\n",
              "      <td>0</td>\n",
              "      <td>0</td>\n",
              "      <td>0</td>\n",
              "      <td>0.000000</td>\n",
              "      <td>0</td>\n",
              "      <td>2001-07-18 00:22:50</td>\n",
              "      <td>995415770</td>\n",
              "      <td>0</td>\n",
              "      <td>0</td>\n",
              "      <td>0</td>\n",
              "      <td>0</td>\n",
              "      <td>513</td>\n",
              "      <td>1</td>\n",
              "    </tr>\n",
              "    <tr>\n",
              "      <th>2</th>\n",
              "      <td>0</td>\n",
              "      <td>0</td>\n",
              "      <td>0</td>\n",
              "      <td>0</td>\n",
              "      <td>0</td>\n",
              "      <td>0</td>\n",
              "      <td>0</td>\n",
              "      <td>0.000000</td>\n",
              "      <td>0</td>\n",
              "      <td>0</td>\n",
              "      <td>0</td>\n",
              "      <td>0</td>\n",
              "      <td>0</td>\n",
              "      <td>0</td>\n",
              "      <td>0</td>\n",
              "      <td>0</td>\n",
              "      <td>0</td>\n",
              "      <td>0</td>\n",
              "      <td>0</td>\n",
              "      <td>0</td>\n",
              "      <td>0</td>\n",
              "      <td>0</td>\n",
              "      <td>0</td>\n",
              "      <td>0</td>\n",
              "      <td>0</td>\n",
              "      <td>0</td>\n",
              "      <td>0</td>\n",
              "      <td>0</td>\n",
              "      <td>0</td>\n",
              "      <td>0</td>\n",
              "      <td>0</td>\n",
              "      <td>0</td>\n",
              "      <td>0</td>\n",
              "      <td>0</td>\n",
              "      <td>0</td>\n",
              "      <td>0</td>\n",
              "      <td>0</td>\n",
              "      <td>0</td>\n",
              "      <td>0</td>\n",
              "      <td>0</td>\n",
              "      <td>0</td>\n",
              "      <td>0</td>\n",
              "      <td>0</td>\n",
              "      <td>0.000000</td>\n",
              "      <td>0</td>\n",
              "      <td>2001-07-18 02:35:50</td>\n",
              "      <td>995423750</td>\n",
              "      <td>0</td>\n",
              "      <td>0</td>\n",
              "      <td>0</td>\n",
              "      <td>0</td>\n",
              "      <td>513</td>\n",
              "      <td>1</td>\n",
              "    </tr>\n",
              "    <tr>\n",
              "      <th>3</th>\n",
              "      <td>0</td>\n",
              "      <td>0</td>\n",
              "      <td>0</td>\n",
              "      <td>0</td>\n",
              "      <td>0</td>\n",
              "      <td>0</td>\n",
              "      <td>0</td>\n",
              "      <td>0.000000</td>\n",
              "      <td>0</td>\n",
              "      <td>0</td>\n",
              "      <td>0</td>\n",
              "      <td>0</td>\n",
              "      <td>0</td>\n",
              "      <td>0</td>\n",
              "      <td>0</td>\n",
              "      <td>0</td>\n",
              "      <td>0</td>\n",
              "      <td>0</td>\n",
              "      <td>0</td>\n",
              "      <td>0</td>\n",
              "      <td>0</td>\n",
              "      <td>0</td>\n",
              "      <td>0</td>\n",
              "      <td>0</td>\n",
              "      <td>0</td>\n",
              "      <td>0</td>\n",
              "      <td>0</td>\n",
              "      <td>0</td>\n",
              "      <td>0</td>\n",
              "      <td>0</td>\n",
              "      <td>0</td>\n",
              "      <td>0</td>\n",
              "      <td>0</td>\n",
              "      <td>0</td>\n",
              "      <td>0</td>\n",
              "      <td>0</td>\n",
              "      <td>0</td>\n",
              "      <td>0</td>\n",
              "      <td>0</td>\n",
              "      <td>0</td>\n",
              "      <td>0</td>\n",
              "      <td>0</td>\n",
              "      <td>0</td>\n",
              "      <td>0.000000</td>\n",
              "      <td>0</td>\n",
              "      <td>2001-07-18 02:37:50</td>\n",
              "      <td>995423870</td>\n",
              "      <td>0</td>\n",
              "      <td>0</td>\n",
              "      <td>0</td>\n",
              "      <td>0</td>\n",
              "      <td>513</td>\n",
              "      <td>1</td>\n",
              "    </tr>\n",
              "    <tr>\n",
              "      <th>4</th>\n",
              "      <td>0</td>\n",
              "      <td>0</td>\n",
              "      <td>0</td>\n",
              "      <td>0</td>\n",
              "      <td>0</td>\n",
              "      <td>0</td>\n",
              "      <td>0</td>\n",
              "      <td>0.000000</td>\n",
              "      <td>0</td>\n",
              "      <td>0</td>\n",
              "      <td>0</td>\n",
              "      <td>0</td>\n",
              "      <td>0</td>\n",
              "      <td>0</td>\n",
              "      <td>0</td>\n",
              "      <td>0</td>\n",
              "      <td>0</td>\n",
              "      <td>0</td>\n",
              "      <td>0</td>\n",
              "      <td>0</td>\n",
              "      <td>0</td>\n",
              "      <td>0</td>\n",
              "      <td>0</td>\n",
              "      <td>0</td>\n",
              "      <td>0</td>\n",
              "      <td>0</td>\n",
              "      <td>0</td>\n",
              "      <td>0</td>\n",
              "      <td>0</td>\n",
              "      <td>0</td>\n",
              "      <td>0</td>\n",
              "      <td>0</td>\n",
              "      <td>0</td>\n",
              "      <td>0</td>\n",
              "      <td>0</td>\n",
              "      <td>0</td>\n",
              "      <td>0</td>\n",
              "      <td>0</td>\n",
              "      <td>0</td>\n",
              "      <td>0</td>\n",
              "      <td>0</td>\n",
              "      <td>0</td>\n",
              "      <td>0</td>\n",
              "      <td>0.000000</td>\n",
              "      <td>0</td>\n",
              "      <td>2001-07-18 02:40:50</td>\n",
              "      <td>995424050</td>\n",
              "      <td>0</td>\n",
              "      <td>0</td>\n",
              "      <td>0</td>\n",
              "      <td>0</td>\n",
              "      <td>513</td>\n",
              "      <td>1</td>\n",
              "    </tr>\n",
              "    <tr>\n",
              "      <th>...</th>\n",
              "      <td>...</td>\n",
              "      <td>...</td>\n",
              "      <td>...</td>\n",
              "      <td>...</td>\n",
              "      <td>...</td>\n",
              "      <td>...</td>\n",
              "      <td>...</td>\n",
              "      <td>...</td>\n",
              "      <td>...</td>\n",
              "      <td>...</td>\n",
              "      <td>...</td>\n",
              "      <td>...</td>\n",
              "      <td>...</td>\n",
              "      <td>...</td>\n",
              "      <td>...</td>\n",
              "      <td>...</td>\n",
              "      <td>...</td>\n",
              "      <td>...</td>\n",
              "      <td>...</td>\n",
              "      <td>...</td>\n",
              "      <td>...</td>\n",
              "      <td>...</td>\n",
              "      <td>...</td>\n",
              "      <td>...</td>\n",
              "      <td>...</td>\n",
              "      <td>...</td>\n",
              "      <td>...</td>\n",
              "      <td>...</td>\n",
              "      <td>...</td>\n",
              "      <td>...</td>\n",
              "      <td>...</td>\n",
              "      <td>...</td>\n",
              "      <td>...</td>\n",
              "      <td>...</td>\n",
              "      <td>...</td>\n",
              "      <td>...</td>\n",
              "      <td>...</td>\n",
              "      <td>...</td>\n",
              "      <td>...</td>\n",
              "      <td>...</td>\n",
              "      <td>...</td>\n",
              "      <td>...</td>\n",
              "      <td>...</td>\n",
              "      <td>...</td>\n",
              "      <td>...</td>\n",
              "      <td>...</td>\n",
              "      <td>...</td>\n",
              "      <td>...</td>\n",
              "      <td>...</td>\n",
              "      <td>...</td>\n",
              "      <td>...</td>\n",
              "      <td>...</td>\n",
              "      <td>...</td>\n",
              "    </tr>\n",
              "    <tr>\n",
              "      <th>21373</th>\n",
              "      <td>1752</td>\n",
              "      <td>730</td>\n",
              "      <td>3469</td>\n",
              "      <td>3</td>\n",
              "      <td>22</td>\n",
              "      <td>0</td>\n",
              "      <td>320</td>\n",
              "      <td>1.527682</td>\n",
              "      <td>362</td>\n",
              "      <td>2408</td>\n",
              "      <td>8</td>\n",
              "      <td>256</td>\n",
              "      <td>163</td>\n",
              "      <td>69</td>\n",
              "      <td>65</td>\n",
              "      <td>49</td>\n",
              "      <td>11</td>\n",
              "      <td>42</td>\n",
              "      <td>14</td>\n",
              "      <td>20</td>\n",
              "      <td>362</td>\n",
              "      <td>2408</td>\n",
              "      <td>8</td>\n",
              "      <td>256</td>\n",
              "      <td>163</td>\n",
              "      <td>69</td>\n",
              "      <td>65</td>\n",
              "      <td>49</td>\n",
              "      <td>11</td>\n",
              "      <td>42</td>\n",
              "      <td>14</td>\n",
              "      <td>4</td>\n",
              "      <td>3140</td>\n",
              "      <td>3102</td>\n",
              "      <td>38</td>\n",
              "      <td>4</td>\n",
              "      <td>1</td>\n",
              "      <td>2816</td>\n",
              "      <td>371</td>\n",
              "      <td>652</td>\n",
              "      <td>0</td>\n",
              "      <td>41</td>\n",
              "      <td>27</td>\n",
              "      <td>0.106947</td>\n",
              "      <td>4</td>\n",
              "      <td>2001-07-17 03:10:50</td>\n",
              "      <td>995339450</td>\n",
              "      <td>3</td>\n",
              "      <td>9</td>\n",
              "      <td>0</td>\n",
              "      <td>143</td>\n",
              "      <td>6893</td>\n",
              "      <td>1</td>\n",
              "    </tr>\n",
              "    <tr>\n",
              "      <th>21374</th>\n",
              "      <td>1952</td>\n",
              "      <td>11</td>\n",
              "      <td>1987</td>\n",
              "      <td>13</td>\n",
              "      <td>14</td>\n",
              "      <td>0</td>\n",
              "      <td>6</td>\n",
              "      <td>5.196158</td>\n",
              "      <td>6</td>\n",
              "      <td>10</td>\n",
              "      <td>0</td>\n",
              "      <td>4</td>\n",
              "      <td>493</td>\n",
              "      <td>3</td>\n",
              "      <td>4</td>\n",
              "      <td>1457</td>\n",
              "      <td>1</td>\n",
              "      <td>0</td>\n",
              "      <td>0</td>\n",
              "      <td>7</td>\n",
              "      <td>6</td>\n",
              "      <td>10</td>\n",
              "      <td>0</td>\n",
              "      <td>4</td>\n",
              "      <td>493</td>\n",
              "      <td>3</td>\n",
              "      <td>4</td>\n",
              "      <td>1457</td>\n",
              "      <td>1</td>\n",
              "      <td>0</td>\n",
              "      <td>0</td>\n",
              "      <td>0</td>\n",
              "      <td>1968</td>\n",
              "      <td>1968</td>\n",
              "      <td>0</td>\n",
              "      <td>4</td>\n",
              "      <td>9</td>\n",
              "      <td>1982</td>\n",
              "      <td>0</td>\n",
              "      <td>79</td>\n",
              "      <td>1</td>\n",
              "      <td>35</td>\n",
              "      <td>2</td>\n",
              "      <td>0.000000</td>\n",
              "      <td>0</td>\n",
              "      <td>2001-07-18 09:51:50</td>\n",
              "      <td>995449910</td>\n",
              "      <td>10</td>\n",
              "      <td>11</td>\n",
              "      <td>0</td>\n",
              "      <td>23</td>\n",
              "      <td>6893</td>\n",
              "      <td>1</td>\n",
              "    </tr>\n",
              "    <tr>\n",
              "      <th>21375</th>\n",
              "      <td>2502</td>\n",
              "      <td>3072</td>\n",
              "      <td>14000</td>\n",
              "      <td>7</td>\n",
              "      <td>15</td>\n",
              "      <td>0</td>\n",
              "      <td>1939</td>\n",
              "      <td>1.882340</td>\n",
              "      <td>2240</td>\n",
              "      <td>1878</td>\n",
              "      <td>1</td>\n",
              "      <td>6945</td>\n",
              "      <td>1834</td>\n",
              "      <td>684</td>\n",
              "      <td>291</td>\n",
              "      <td>59</td>\n",
              "      <td>10</td>\n",
              "      <td>50</td>\n",
              "      <td>6</td>\n",
              "      <td>10</td>\n",
              "      <td>2240</td>\n",
              "      <td>1878</td>\n",
              "      <td>1</td>\n",
              "      <td>6945</td>\n",
              "      <td>1834</td>\n",
              "      <td>684</td>\n",
              "      <td>291</td>\n",
              "      <td>59</td>\n",
              "      <td>10</td>\n",
              "      <td>50</td>\n",
              "      <td>6</td>\n",
              "      <td>225</td>\n",
              "      <td>11662</td>\n",
              "      <td>11591</td>\n",
              "      <td>71</td>\n",
              "      <td>172</td>\n",
              "      <td>2</td>\n",
              "      <td>9921</td>\n",
              "      <td>481</td>\n",
              "      <td>3796</td>\n",
              "      <td>6</td>\n",
              "      <td>329</td>\n",
              "      <td>59</td>\n",
              "      <td>0.034357</td>\n",
              "      <td>3</td>\n",
              "      <td>2001-07-17 08:27:50</td>\n",
              "      <td>995358470</td>\n",
              "      <td>6</td>\n",
              "      <td>10</td>\n",
              "      <td>0</td>\n",
              "      <td>341</td>\n",
              "      <td>513</td>\n",
              "      <td>1</td>\n",
              "    </tr>\n",
              "    <tr>\n",
              "      <th>21376</th>\n",
              "      <td>2562</td>\n",
              "      <td>10</td>\n",
              "      <td>4560</td>\n",
              "      <td>4</td>\n",
              "      <td>12</td>\n",
              "      <td>0</td>\n",
              "      <td>434</td>\n",
              "      <td>1.698179</td>\n",
              "      <td>1973</td>\n",
              "      <td>4</td>\n",
              "      <td>0</td>\n",
              "      <td>19</td>\n",
              "      <td>2556</td>\n",
              "      <td>6</td>\n",
              "      <td>0</td>\n",
              "      <td>0</td>\n",
              "      <td>0</td>\n",
              "      <td>1</td>\n",
              "      <td>0</td>\n",
              "      <td>8</td>\n",
              "      <td>1973</td>\n",
              "      <td>4</td>\n",
              "      <td>0</td>\n",
              "      <td>19</td>\n",
              "      <td>2556</td>\n",
              "      <td>6</td>\n",
              "      <td>0</td>\n",
              "      <td>0</td>\n",
              "      <td>0</td>\n",
              "      <td>1</td>\n",
              "      <td>0</td>\n",
              "      <td>0</td>\n",
              "      <td>4122</td>\n",
              "      <td>2583</td>\n",
              "      <td>1539</td>\n",
              "      <td>3</td>\n",
              "      <td>1</td>\n",
              "      <td>2667</td>\n",
              "      <td>8</td>\n",
              "      <td>141</td>\n",
              "      <td>2</td>\n",
              "      <td>59</td>\n",
              "      <td>0</td>\n",
              "      <td>0.001754</td>\n",
              "      <td>1</td>\n",
              "      <td>2001-07-18 09:49:50</td>\n",
              "      <td>995449790</td>\n",
              "      <td>4</td>\n",
              "      <td>9</td>\n",
              "      <td>0</td>\n",
              "      <td>352</td>\n",
              "      <td>559</td>\n",
              "      <td>1</td>\n",
              "    </tr>\n",
              "    <tr>\n",
              "      <th>21377</th>\n",
              "      <td>4069</td>\n",
              "      <td>322</td>\n",
              "      <td>4520</td>\n",
              "      <td>4</td>\n",
              "      <td>13</td>\n",
              "      <td>0</td>\n",
              "      <td>4</td>\n",
              "      <td>1.999115</td>\n",
              "      <td>24</td>\n",
              "      <td>117</td>\n",
              "      <td>0</td>\n",
              "      <td>4287</td>\n",
              "      <td>59</td>\n",
              "      <td>7</td>\n",
              "      <td>18</td>\n",
              "      <td>7</td>\n",
              "      <td>0</td>\n",
              "      <td>1</td>\n",
              "      <td>0</td>\n",
              "      <td>8</td>\n",
              "      <td>24</td>\n",
              "      <td>117</td>\n",
              "      <td>0</td>\n",
              "      <td>4287</td>\n",
              "      <td>59</td>\n",
              "      <td>7</td>\n",
              "      <td>18</td>\n",
              "      <td>7</td>\n",
              "      <td>0</td>\n",
              "      <td>1</td>\n",
              "      <td>0</td>\n",
              "      <td>18</td>\n",
              "      <td>469</td>\n",
              "      <td>468</td>\n",
              "      <td>1</td>\n",
              "      <td>4029</td>\n",
              "      <td>0</td>\n",
              "      <td>4503</td>\n",
              "      <td>0</td>\n",
              "      <td>171</td>\n",
              "      <td>0</td>\n",
              "      <td>6</td>\n",
              "      <td>1</td>\n",
              "      <td>0.000000</td>\n",
              "      <td>0</td>\n",
              "      <td>2001-07-19 14:13:50</td>\n",
              "      <td>995552030</td>\n",
              "      <td>4</td>\n",
              "      <td>9</td>\n",
              "      <td>0</td>\n",
              "      <td>2198</td>\n",
              "      <td>6893</td>\n",
              "      <td>1</td>\n",
              "    </tr>\n",
              "  </tbody>\n",
              "</table>\n",
              "<p>21378 rows × 53 columns</p>\n",
              "</div>"
            ],
            "text/plain": [
              "       ann_to_longer  ann_to_shorter  ...  AS_peer  records\n",
              "0                  0               0  ...      559        1\n",
              "1                  0               0  ...      513        1\n",
              "2                  0               0  ...      513        1\n",
              "3                  0               0  ...      513        1\n",
              "4                  0               0  ...      513        1\n",
              "...              ...             ...  ...      ...      ...\n",
              "21373           1752             730  ...     6893        1\n",
              "21374           1952              11  ...     6893        1\n",
              "21375           2502            3072  ...      513        1\n",
              "21376           2562              10  ...      559        1\n",
              "21377           4069             322  ...     6893        1\n",
              "\n",
              "[21378 rows x 53 columns]"
            ]
          },
          "metadata": {},
          "execution_count": 11
        }
      ]
    },
    {
      "cell_type": "markdown",
      "metadata": {
        "id": "WZylaHEzlahX"
      },
      "source": [
        "# Fazendo o match entre as tabelas"
      ]
    },
    {
      "cell_type": "code",
      "metadata": {
        "id": "szlDYapjDuYV"
      },
      "source": [
        "# Recebe o dataframe alvo e as informações da linha do df base\n",
        "# Retorna o index do dataframe alvo que dá match nas informações\n",
        "# Caso não tenha match retorna -1\n",
        "\n",
        "def find_line(df_red, as_peer, time, origin_type):\n",
        "  if origin_type == 0:\n",
        "    og = 'origin_0'\n",
        "  elif origin_type == 1:\n",
        "    og = 'origin_1'\n",
        "  else:\n",
        "    og = 'origin_2'\n",
        "  n_time = time + pd.Timedelta(value=1, unit='m')\n",
        "  ind = df_red.query('(AS_peer == @as_peer) & ('+ og + ' > 0) & (timestamp >= @time) & (timestamp < @n_time)').index\n",
        "  if ind.any():\n",
        "    return ind.item()\n",
        "  else: \n",
        "    return -1"
      ],
      "execution_count": null,
      "outputs": []
    },
    {
      "cell_type": "code",
      "metadata": {
        "id": "0Gf19PsIBvuQ"
      },
      "source": [
        "# Query especificado\n",
        "q_red = (\"(announcements > 0) & \"\n",
        "         \"(dups > 0) & \"\n",
        "         \"((imp_wd > 0) | (imp_wd_dpath > 0)) & \"\n",
        "         \"((news > 0) | (nadas > 0)) & \"\n",
        "         \"(origin_changes > 0)\")\n",
        "df_filtered = df_red_unique.query(q_red)\n",
        "df_unique['key'] = df_unique.apply(lambda row: find_line(df_filtered, \n",
        "                                                         row['AS_peer'], \n",
        "                                                         row['time'], \n",
        "                                                         row['origin_type']), \n",
        "                                   axis=1)"
      ],
      "execution_count": null,
      "outputs": []
    },
    {
      "cell_type": "markdown",
      "metadata": {
        "id": "t2SXjgUExm4u"
      },
      "source": [
        "# Modelo de aprendizado"
      ]
    },
    {
      "cell_type": "code",
      "metadata": {
        "colab": {
          "base_uri": "https://localhost:8080/"
        },
        "id": "ejiiclaK4axg",
        "outputId": "abe1fe90-a7e4-44e4-915b-6b6d5d63b98c"
      },
      "source": [
        "pip install -q -U keras-tuner"
      ],
      "execution_count": null,
      "outputs": [
        {
          "output_type": "stream",
          "name": "stdout",
          "text": [
            "\u001b[?25l\r\u001b[K     |███▍                            | 10 kB 23.3 MB/s eta 0:00:01\r\u001b[K     |██████▊                         | 20 kB 25.6 MB/s eta 0:00:01\r\u001b[K     |██████████                      | 30 kB 12.3 MB/s eta 0:00:01\r\u001b[K     |█████████████▍                  | 40 kB 9.4 MB/s eta 0:00:01\r\u001b[K     |████████████████▊               | 51 kB 5.4 MB/s eta 0:00:01\r\u001b[K     |████████████████████            | 61 kB 5.9 MB/s eta 0:00:01\r\u001b[K     |███████████████████████▍        | 71 kB 5.7 MB/s eta 0:00:01\r\u001b[K     |██████████████████████████▊     | 81 kB 6.4 MB/s eta 0:00:01\r\u001b[K     |██████████████████████████████▏ | 92 kB 4.9 MB/s eta 0:00:01\r\u001b[K     |████████████████████████████████| 97 kB 3.2 MB/s \n",
            "\u001b[?25h"
          ]
        }
      ]
    },
    {
      "cell_type": "code",
      "metadata": {
        "id": "XNzVfhK8xpF9"
      },
      "source": [
        "import tensorflow as tf\n",
        "from tensorflow import keras\n",
        "\n",
        "import keras_tuner as kt\n",
        "from keras_tuner import BayesianOptimization\n",
        "\n",
        "import os\n",
        "import tempfile\n",
        "\n",
        "import sklearn\n",
        "from sklearn.metrics import confusion_matrix\n",
        "from sklearn.model_selection import train_test_split\n",
        "from sklearn.preprocessing import MinMaxScaler"
      ],
      "execution_count": null,
      "outputs": []
    },
    {
      "cell_type": "code",
      "metadata": {
        "id": "DZ0JvCTkykMR"
      },
      "source": [
        "import matplotlib as mpl\n",
        "import matplotlib.pyplot as plt\n",
        "import seaborn as sns\n",
        "mpl.rcParams['figure.figsize'] = (16, 12)\n",
        "colors = plt.rcParams['axes.prop_cycle'].by_key()['color']"
      ],
      "execution_count": null,
      "outputs": []
    },
    {
      "cell_type": "code",
      "metadata": {
        "id": "c2u77qNrytX4"
      },
      "source": [
        "df_unique['target'] = np.where(df_unique['key'] > -1, 1, 0)"
      ],
      "execution_count": null,
      "outputs": []
    },
    {
      "cell_type": "code",
      "metadata": {
        "id": "4Sr4hRHZy2iy"
      },
      "source": [
        "def classes_prop(df):\n",
        "  neg, pos = np.bincount(df['target'])\n",
        "  total = neg + pos\n",
        "  print('Alvo:\\n    Total: {}\\n    Positivos: {} ({:.2f}% of total)\\n'.format(\n",
        "      total, pos, 100 * pos / total))"
      ],
      "execution_count": null,
      "outputs": []
    },
    {
      "cell_type": "code",
      "metadata": {
        "colab": {
          "base_uri": "https://localhost:8080/"
        },
        "id": "v6JcABWOrUNN",
        "outputId": "7d70bd4b-76d9-434a-ca90-267ac461771b"
      },
      "source": [
        "classes_prop(df_unique)"
      ],
      "execution_count": null,
      "outputs": [
        {
          "output_type": "stream",
          "name": "stdout",
          "text": [
            "Alvo:\n",
            "    Total: 37123\n",
            "    Positivos: 10172 (27.40% of total)\n",
            "\n"
          ]
        }
      ]
    },
    {
      "cell_type": "markdown",
      "metadata": {
        "id": "x73xY_in2zdF"
      },
      "source": [
        "## Data Prep"
      ]
    },
    {
      "cell_type": "markdown",
      "metadata": {
        "id": "TtDjeHh-qeko"
      },
      "source": [
        "Escolha das features e divisão dos dados"
      ]
    },
    {
      "cell_type": "code",
      "metadata": {
        "id": "me8aQOjyzun9"
      },
      "source": [
        "features = ['relevance', \n",
        "            'relevance_avg', \n",
        "            'relevance_median', \n",
        "            'relevance_max', \n",
        "            'relevance_min',\n",
        "            'relevance_peer',\n",
        "            'threat',\n",
        "            'threat_avg', \n",
        "            'threat_median', \n",
        "            'threat_max', \n",
        "            'threat_min',\n",
        "            'threat_peer',\n",
        "            'repetitions',\n",
        "            'origin_type',\n",
        "            'length']\n",
        "y_label = 'target'"
      ],
      "execution_count": null,
      "outputs": []
    },
    {
      "cell_type": "code",
      "metadata": {
        "id": "LbNbzz1Qqhq2"
      },
      "source": [
        "train = df_unique[(df_unique['time'] > '2001-07-19 00:01:00') & \n",
        "                  (df_unique['time'] <= '2001-07-19 14:45:00')]\n",
        "val = df_unique[(df_unique['time'] > '2001-07-19 14:45:00') & \n",
        "                (df_unique['time'] <= '2001-07-19 15:05:00')]\n",
        "test = df_unique[df_unique['time'] > '2001-07-19 15:05:00']"
      ],
      "execution_count": null,
      "outputs": []
    },
    {
      "cell_type": "code",
      "metadata": {
        "colab": {
          "base_uri": "https://localhost:8080/"
        },
        "id": "EBtfXbPX0RCa",
        "outputId": "b7eddd28-b3cd-4f15-9d38-c09855db1915"
      },
      "source": [
        "total = len(train) + len(val) + len(test) \n",
        "prop_tr = (len(train)/total) * 100\n",
        "prop_v = (len(val)/total) * 100\n",
        "prop_te = (len(test)/total) * 100\n",
        "\n",
        "print(f\"Treino: {prop_tr:.1f}%\\nValidação: {prop_v:.1f}%\\nTeste: {prop_te:.1f}%\\n\")\n",
        "print(\"Para o conjunto de treino:\")\n",
        "classes_prop(train)\n",
        "print(\" \")\n",
        "print(\"Para o conjunto de validação:\")\n",
        "classes_prop(val)\n",
        "print(\" \")\n",
        "print(\"Para o conjunto de teste:\")\n",
        "classes_prop(test)"
      ],
      "execution_count": null,
      "outputs": [
        {
          "output_type": "stream",
          "name": "stdout",
          "text": [
            "Treino: 81.6%\n",
            "Validação: 8.8%\n",
            "Teste: 9.6%\n",
            "\n",
            "Para o conjunto de treino:\n",
            "Alvo:\n",
            "    Total: 16147\n",
            "    Positivos: 8261 (51.16% of total)\n",
            "\n",
            " \n",
            "Para o conjunto de validação:\n",
            "Alvo:\n",
            "    Total: 1744\n",
            "    Positivos: 858 (49.20% of total)\n",
            "\n",
            " \n",
            "Para o conjunto de teste:\n",
            "Alvo:\n",
            "    Total: 1907\n",
            "    Positivos: 1053 (55.22% of total)\n",
            "\n"
          ]
        }
      ]
    },
    {
      "cell_type": "code",
      "metadata": {
        "id": "HOCjoh_Hq9Yn"
      },
      "source": [
        "X_train = train[features]\n",
        "y_train = np.array(train[y_label])\n",
        "\n",
        "X_val = val[features]\n",
        "y_val = np.array(val[y_label])\n",
        "\n",
        "X_test = test[features]\n",
        "y_test = np.array(test[y_label])"
      ],
      "execution_count": null,
      "outputs": []
    },
    {
      "cell_type": "markdown",
      "metadata": {
        "id": "aMqVvGWVsEln"
      },
      "source": [
        "Scaling [-1, 1]"
      ]
    },
    {
      "cell_type": "code",
      "metadata": {
        "id": "BKNNheTfsFL5"
      },
      "source": [
        "scaler = MinMaxScaler(feature_range=(-1,1))\n",
        "\n",
        "X_train = scaler.fit_transform(X_train)\n",
        "X_val = scaler.transform(X_val)\n",
        "X_test = scaler.transform(X_test)"
      ],
      "execution_count": null,
      "outputs": []
    },
    {
      "cell_type": "code",
      "metadata": {
        "colab": {
          "base_uri": "https://localhost:8080/"
        },
        "id": "5Zn9xLRttqPJ",
        "outputId": "0893ece9-9c7e-4fcc-9e2b-4fc02da9779c"
      },
      "source": [
        "print('Curva de rótulos de treinamento:', y_train.shape)\n",
        "print('Curva de rótulos de validação:', y_val.shape)\n",
        "print('Curva de rótulos de teste:', y_test.shape)\n",
        "print()\n",
        "print('Curva de atributos de treinamento:', X_train.shape)\n",
        "print('Curva de atributos de validação:', X_val.shape)\n",
        "print('Curva de atributos de teste:', X_test.shape)"
      ],
      "execution_count": null,
      "outputs": [
        {
          "output_type": "stream",
          "name": "stdout",
          "text": [
            "Curva de rótulos de treinamento: (16147,)\n",
            "Curva de rótulos de validação: (1744,)\n",
            "Curva de rótulos de teste: (1907,)\n",
            "\n",
            "Curva de atributos de treinamento: (16147, 15)\n",
            "Curva de atributos de validação: (1744, 15)\n",
            "Curva de atributos de teste: (1907, 15)\n"
          ]
        }
      ]
    },
    {
      "cell_type": "markdown",
      "metadata": {
        "id": "c_bum9nc2169"
      },
      "source": [
        "## Training"
      ]
    },
    {
      "cell_type": "markdown",
      "metadata": {
        "id": "NbIrhPp79TDF"
      },
      "source": [
        "Definindo o modelo"
      ]
    },
    {
      "cell_type": "code",
      "metadata": {
        "id": "MQiEOb2j4_vQ"
      },
      "source": [
        "def model_builder(hp):\n",
        "  METRICS = [keras.metrics.TruePositives(name='tp'),\n",
        "             keras.metrics.FalsePositives(name='fp'),\n",
        "             keras.metrics.TrueNegatives(name='tn'),\n",
        "             keras.metrics.FalseNegatives(name='fn'), \n",
        "             keras.metrics.BinaryAccuracy(name='accuracy'),\n",
        "             keras.metrics.Precision(name='precision'),\n",
        "             keras.metrics.Recall(name='recall'),\n",
        "             keras.metrics.AUC(name='auc'),\n",
        "             keras.metrics.AUC(name='prc', curve='PR')]\n",
        "\n",
        "  # Hyperparameters ranges\n",
        "  dense_outer = hp.Int('units_outer', min_value=16, max_value=128, step=16)\n",
        "  dense_inner = hp.Int('units_inner', min_value=16, max_value=128, step=16)\n",
        "  dense_act = hp.Choice('dense_activation', values=['relu', 'tanh', 'sigmoid'],\n",
        "                         default='relu')\n",
        "  dropout_outer = hp.Choice('dropout_outer', values=[0.1, 0.2, 0.3, 0.4, 0.5])\n",
        "  dropout_inner = hp.Choice('dropout_inner', values=[0.1, 0.2, 0.3, 0.4, 0.5])\n",
        "  l_rate = hp.Choice('learning_rate', \n",
        "                     values = [1e-2, 1.5e-2, 1e-3, 1.5e-3, 1e-4, 1.5e-4])\n",
        "\n",
        "  model = keras.Sequential([keras.layers.Dense(dense_outer, \n",
        "                                               activation=dense_act,\n",
        "                                               input_shape=(X_train.shape[-1],)),\n",
        "                            keras.layers.Dropout(dropout_outer),\n",
        "                            keras.layers.Dense(dense_inner, \n",
        "                                               activation=dense_act),\n",
        "                            keras.layers.Dropout(dropout_inner),\n",
        "                            keras.layers.Dense(1,\n",
        "                                               activation='sigmoid')])\n",
        "  model.compile(\n",
        "      optimizer=keras.optimizers.Adam(learning_rate=l_rate),\n",
        "      loss=keras.losses.BinaryCrossentropy(),\n",
        "      metrics=METRICS)\n",
        "\n",
        "  return model"
      ],
      "execution_count": null,
      "outputs": []
    },
    {
      "cell_type": "markdown",
      "metadata": {
        "id": "rnlnijV4-H9-"
      },
      "source": [
        "Criando/Treinando o modelo"
      ]
    },
    {
      "cell_type": "code",
      "metadata": {
        "id": "OUlQ-eci-Dn1"
      },
      "source": [
        "EPOCHS = 100\n",
        "BATCH_SIZE = 128\n",
        "\n",
        "early_stopping = tf.keras.callbacks.EarlyStopping(\n",
        "    monitor='val_loss', \n",
        "    verbose=1,\n",
        "    patience=15,\n",
        "    mode='min',\n",
        "    restore_best_weights=True)"
      ],
      "execution_count": null,
      "outputs": []
    },
    {
      "cell_type": "code",
      "metadata": {
        "id": "7lD0j1bj9ewH"
      },
      "source": [
        "bayesian_tuner = BayesianOptimization(\n",
        "    model_builder,\n",
        "    objective='val_loss',\n",
        "    max_trials=20,\n",
        "    seed=10,\n",
        "    project_name='day19only',\n",
        "    overwrite=True)"
      ],
      "execution_count": null,
      "outputs": []
    },
    {
      "cell_type": "code",
      "metadata": {
        "id": "9Hygp_yV_X7g"
      },
      "source": [
        ""
      ],
      "execution_count": null,
      "outputs": []
    },
    {
      "cell_type": "code",
      "metadata": {
        "id": "JKmOWaCLUT3t"
      },
      "source": [
        ""
      ],
      "execution_count": null,
      "outputs": []
    },
    {
      "cell_type": "code",
      "metadata": {
        "colab": {
          "base_uri": "https://localhost:8080/"
        },
        "id": "q2iVbOGM9e1x",
        "outputId": "ce4bd9d1-8036-46c2-8e78-93a30acbd3a8"
      },
      "source": [
        "bayesian_tuner.search(X_train,\n",
        "             y_train,\n",
        "             batch_size=BATCH_SIZE,\n",
        "             epochs=EPOCHS,\n",
        "             callbacks=[early_stopping],\n",
        "             validation_data=(X_val, y_val),\n",
        "             verbose=0)"
      ],
      "execution_count": null,
      "outputs": [
        {
          "output_type": "stream",
          "name": "stdout",
          "text": [
            "Restoring model weights from the end of the best epoch.\n",
            "Epoch 00042: early stopping\n",
            "Restoring model weights from the end of the best epoch.\n",
            "Epoch 00021: early stopping\n",
            "Restoring model weights from the end of the best epoch.\n",
            "Epoch 00026: early stopping\n",
            "Restoring model weights from the end of the best epoch.\n",
            "Epoch 00027: early stopping\n",
            "Restoring model weights from the end of the best epoch.\n",
            "Epoch 00038: early stopping\n",
            "Restoring model weights from the end of the best epoch.\n",
            "Epoch 00028: early stopping\n",
            "Restoring model weights from the end of the best epoch.\n",
            "Epoch 00039: early stopping\n",
            "Restoring model weights from the end of the best epoch.\n",
            "Epoch 00040: early stopping\n",
            "Restoring model weights from the end of the best epoch.\n",
            "Epoch 00022: early stopping\n",
            "Restoring model weights from the end of the best epoch.\n",
            "Epoch 00035: early stopping\n",
            "Restoring model weights from the end of the best epoch.\n",
            "Epoch 00038: early stopping\n",
            "Restoring model weights from the end of the best epoch.\n",
            "Epoch 00029: early stopping\n",
            "Restoring model weights from the end of the best epoch.\n",
            "Epoch 00027: early stopping\n",
            "Restoring model weights from the end of the best epoch.\n",
            "Epoch 00023: early stopping\n",
            "Restoring model weights from the end of the best epoch.\n",
            "Epoch 00017: early stopping\n",
            "Restoring model weights from the end of the best epoch.\n",
            "Epoch 00025: early stopping\n",
            "Restoring model weights from the end of the best epoch.\n",
            "Epoch 00033: early stopping\n",
            "Restoring model weights from the end of the best epoch.\n",
            "Epoch 00052: early stopping\n",
            "Restoring model weights from the end of the best epoch.\n",
            "Epoch 00023: early stopping\n",
            "INFO:tensorflow:Oracle triggered exit\n"
          ]
        }
      ]
    },
    {
      "cell_type": "code",
      "metadata": {
        "colab": {
          "base_uri": "https://localhost:8080/"
        },
        "id": "2fpI4KJE_Ai-",
        "outputId": "b35b6f70-b9c6-4290-ec2a-0f31451525c0"
      },
      "source": [
        "best_hps=bayesian_tuner.get_best_hyperparameters(num_trials=1)[0]\n",
        "\n",
        "print(f\"\"\"\n",
        "Melhores valores:\n",
        "\n",
        "Dense Units \n",
        "    Outer: {best_hps.get('units_outer')}\n",
        "    Inner: {best_hps.get('units_inner')}\n",
        "\n",
        "Dense Activation: {best_hps.get('dense_activation')}\n",
        "\n",
        "Dropout %\n",
        "    Outer: {best_hps.get('dropout_outer')}\n",
        "    Inner: {best_hps.get('dropout_inner')}\n",
        "\n",
        "Learning Rate: {best_hps.get('learning_rate')}\n",
        "\"\"\")\n"
      ],
      "execution_count": null,
      "outputs": [
        {
          "output_type": "stream",
          "name": "stdout",
          "text": [
            "\n",
            "Melhores valores:\n",
            "\n",
            "Dense Units \n",
            "    Outer: 112\n",
            "    Inner: 128\n",
            "\n",
            "Dense Activation: relu\n",
            "\n",
            "Dropout %\n",
            "    Outer: 0.1\n",
            "    Inner: 0.1\n",
            "\n",
            "Learning Rate: 0.01\n",
            "\n"
          ]
        }
      ]
    },
    {
      "cell_type": "markdown",
      "metadata": {
        "id": "SETmB1UBBFnf"
      },
      "source": [
        "Treinando o melhor modelo"
      ]
    },
    {
      "cell_type": "code",
      "metadata": {
        "colab": {
          "base_uri": "https://localhost:8080/"
        },
        "id": "jLBhmnxkBHYb",
        "outputId": "72016143-fadb-48d7-8717-1d6a79dea8ce"
      },
      "source": [
        "model = bayesian_tuner.hypermodel.build(best_hps)\n",
        "baseline_history = model.fit(X_train,\n",
        "                    y_train,\n",
        "                    batch_size=BATCH_SIZE,\n",
        "                    epochs=EPOCHS,\n",
        "                    callbacks=[early_stopping],\n",
        "                    validation_data=(X_val, y_val))"
      ],
      "execution_count": null,
      "outputs": [
        {
          "output_type": "stream",
          "name": "stdout",
          "text": [
            "Epoch 1/100\n",
            "127/127 [==============================] - 4s 12ms/step - loss: 0.6560 - tp: 6947.0000 - fp: 4953.0000 - tn: 2933.0000 - fn: 1314.0000 - accuracy: 0.6119 - precision: 0.5838 - recall: 0.8409 - auc: 0.6244 - prc: 0.5885 - val_loss: 0.5939 - val_tp: 856.0000 - val_fp: 571.0000 - val_tn: 315.0000 - val_fn: 2.0000 - val_accuracy: 0.6714 - val_precision: 0.5999 - val_recall: 0.9977 - val_auc: 0.6753 - val_prc: 0.5903\n",
            "Epoch 2/100\n",
            "127/127 [==============================] - 0s 4ms/step - loss: 0.6440 - tp: 6963.0000 - fp: 4642.0000 - tn: 3244.0000 - fn: 1298.0000 - accuracy: 0.6321 - precision: 0.6000 - recall: 0.8429 - auc: 0.6522 - prc: 0.6096 - val_loss: 0.6262 - val_tp: 651.0000 - val_fp: 442.0000 - val_tn: 444.0000 - val_fn: 207.0000 - val_accuracy: 0.6279 - val_precision: 0.5956 - val_recall: 0.7587 - val_auc: 0.6554 - val_prc: 0.5714\n",
            "Epoch 3/100\n",
            "127/127 [==============================] - 0s 4ms/step - loss: 0.6355 - tp: 6681.0000 - fp: 4184.0000 - tn: 3702.0000 - fn: 1580.0000 - accuracy: 0.6430 - precision: 0.6149 - recall: 0.8087 - auc: 0.6708 - prc: 0.6291 - val_loss: 0.5972 - val_tp: 847.0000 - val_fp: 508.0000 - val_tn: 378.0000 - val_fn: 11.0000 - val_accuracy: 0.7024 - val_precision: 0.6251 - val_recall: 0.9872 - val_auc: 0.6501 - val_prc: 0.5595\n",
            "Epoch 4/100\n",
            "127/127 [==============================] - 0s 4ms/step - loss: 0.6184 - tp: 6799.0000 - fp: 4039.0000 - tn: 3847.0000 - fn: 1462.0000 - accuracy: 0.6593 - precision: 0.6273 - recall: 0.8230 - auc: 0.6938 - prc: 0.6476 - val_loss: 0.6006 - val_tp: 858.0000 - val_fp: 516.0000 - val_tn: 370.0000 - val_fn: 0.0000e+00 - val_accuracy: 0.7041 - val_precision: 0.6245 - val_recall: 1.0000 - val_auc: 0.6685 - val_prc: 0.5803\n",
            "Epoch 5/100\n",
            "127/127 [==============================] - 0s 4ms/step - loss: 0.6175 - tp: 6716.0000 - fp: 3997.0000 - tn: 3889.0000 - fn: 1545.0000 - accuracy: 0.6568 - precision: 0.6269 - recall: 0.8130 - auc: 0.6993 - prc: 0.6557 - val_loss: 0.6072 - val_tp: 854.0000 - val_fp: 510.0000 - val_tn: 376.0000 - val_fn: 4.0000 - val_accuracy: 0.7053 - val_precision: 0.6261 - val_recall: 0.9953 - val_auc: 0.6685 - val_prc: 0.5833\n",
            "Epoch 6/100\n",
            "127/127 [==============================] - 0s 4ms/step - loss: 0.6202 - tp: 6627.0000 - fp: 3941.0000 - tn: 3945.0000 - fn: 1634.0000 - accuracy: 0.6547 - precision: 0.6271 - recall: 0.8022 - auc: 0.6969 - prc: 0.6554 - val_loss: 0.6236 - val_tp: 446.0000 - val_fp: 362.0000 - val_tn: 524.0000 - val_fn: 412.0000 - val_accuracy: 0.5562 - val_precision: 0.5520 - val_recall: 0.5198 - val_auc: 0.6332 - val_prc: 0.5405\n",
            "Epoch 7/100\n",
            "127/127 [==============================] - 1s 4ms/step - loss: 0.6118 - tp: 6624.0000 - fp: 3795.0000 - tn: 4091.0000 - fn: 1637.0000 - accuracy: 0.6636 - precision: 0.6358 - recall: 0.8018 - auc: 0.7078 - prc: 0.6681 - val_loss: 0.5998 - val_tp: 820.0000 - val_fp: 496.0000 - val_tn: 390.0000 - val_fn: 38.0000 - val_accuracy: 0.6938 - val_precision: 0.6231 - val_recall: 0.9557 - val_auc: 0.6521 - val_prc: 0.5728\n",
            "Epoch 8/100\n",
            "127/127 [==============================] - 0s 4ms/step - loss: 0.6083 - tp: 6625.0000 - fp: 3843.0000 - tn: 4043.0000 - fn: 1636.0000 - accuracy: 0.6607 - precision: 0.6329 - recall: 0.8020 - auc: 0.7103 - prc: 0.6707 - val_loss: 0.5992 - val_tp: 509.0000 - val_fp: 388.0000 - val_tn: 498.0000 - val_fn: 349.0000 - val_accuracy: 0.5774 - val_precision: 0.5674 - val_recall: 0.5932 - val_auc: 0.6383 - val_prc: 0.5513\n",
            "Epoch 9/100\n",
            "127/127 [==============================] - 1s 4ms/step - loss: 0.6190 - tp: 6838.0000 - fp: 4078.0000 - tn: 3808.0000 - fn: 1423.0000 - accuracy: 0.6593 - precision: 0.6264 - recall: 0.8277 - auc: 0.6928 - prc: 0.6514 - val_loss: 0.5887 - val_tp: 828.0000 - val_fp: 506.0000 - val_tn: 380.0000 - val_fn: 30.0000 - val_accuracy: 0.6927 - val_precision: 0.6207 - val_recall: 0.9650 - val_auc: 0.6452 - val_prc: 0.5630\n",
            "Epoch 10/100\n",
            "127/127 [==============================] - 0s 4ms/step - loss: 0.6049 - tp: 6633.0000 - fp: 3793.0000 - tn: 4093.0000 - fn: 1628.0000 - accuracy: 0.6643 - precision: 0.6362 - recall: 0.8029 - auc: 0.7141 - prc: 0.6725 - val_loss: 0.6423 - val_tp: 431.0000 - val_fp: 359.0000 - val_tn: 527.0000 - val_fn: 427.0000 - val_accuracy: 0.5493 - val_precision: 0.5456 - val_recall: 0.5023 - val_auc: 0.6378 - val_prc: 0.5547\n",
            "Epoch 11/100\n",
            "127/127 [==============================] - 0s 3ms/step - loss: 0.6080 - tp: 6709.0000 - fp: 3881.0000 - tn: 4005.0000 - fn: 1552.0000 - accuracy: 0.6635 - precision: 0.6335 - recall: 0.8121 - auc: 0.7079 - prc: 0.6653 - val_loss: 0.6321 - val_tp: 408.0000 - val_fp: 353.0000 - val_tn: 533.0000 - val_fn: 450.0000 - val_accuracy: 0.5396 - val_precision: 0.5361 - val_recall: 0.4755 - val_auc: 0.6436 - val_prc: 0.5633\n",
            "Epoch 12/100\n",
            "127/127 [==============================] - 1s 4ms/step - loss: 0.6020 - tp: 6644.0000 - fp: 3819.0000 - tn: 4067.0000 - fn: 1617.0000 - accuracy: 0.6633 - precision: 0.6350 - recall: 0.8043 - auc: 0.7138 - prc: 0.6714 - val_loss: 0.6175 - val_tp: 397.0000 - val_fp: 348.0000 - val_tn: 538.0000 - val_fn: 461.0000 - val_accuracy: 0.5361 - val_precision: 0.5329 - val_recall: 0.4627 - val_auc: 0.6511 - val_prc: 0.5759\n",
            "Epoch 13/100\n",
            "127/127 [==============================] - 0s 4ms/step - loss: 0.6062 - tp: 6756.0000 - fp: 3914.0000 - tn: 3972.0000 - fn: 1505.0000 - accuracy: 0.6644 - precision: 0.6332 - recall: 0.8178 - auc: 0.7087 - prc: 0.6639 - val_loss: 0.6031 - val_tp: 791.0000 - val_fp: 491.0000 - val_tn: 395.0000 - val_fn: 67.0000 - val_accuracy: 0.6800 - val_precision: 0.6170 - val_recall: 0.9219 - val_auc: 0.6488 - val_prc: 0.5703\n",
            "Epoch 14/100\n",
            "127/127 [==============================] - 0s 4ms/step - loss: 0.6032 - tp: 6770.0000 - fp: 3911.0000 - tn: 3975.0000 - fn: 1491.0000 - accuracy: 0.6654 - precision: 0.6338 - recall: 0.8195 - auc: 0.7122 - prc: 0.6738 - val_loss: 0.5985 - val_tp: 677.0000 - val_fp: 454.0000 - val_tn: 432.0000 - val_fn: 181.0000 - val_accuracy: 0.6359 - val_precision: 0.5986 - val_recall: 0.7890 - val_auc: 0.6469 - val_prc: 0.5642\n",
            "Epoch 15/100\n",
            "127/127 [==============================] - 0s 4ms/step - loss: 0.6032 - tp: 6565.0000 - fp: 3770.0000 - tn: 4116.0000 - fn: 1696.0000 - accuracy: 0.6615 - precision: 0.6352 - recall: 0.7947 - auc: 0.7139 - prc: 0.6728 - val_loss: 0.6003 - val_tp: 432.0000 - val_fp: 358.0000 - val_tn: 528.0000 - val_fn: 426.0000 - val_accuracy: 0.5505 - val_precision: 0.5468 - val_recall: 0.5035 - val_auc: 0.6504 - val_prc: 0.5721\n",
            "Epoch 16/100\n",
            "127/127 [==============================] - 1s 4ms/step - loss: 0.5991 - tp: 6509.0000 - fp: 3664.0000 - tn: 4222.0000 - fn: 1752.0000 - accuracy: 0.6646 - precision: 0.6398 - recall: 0.7879 - auc: 0.7136 - prc: 0.6712 - val_loss: 0.5923 - val_tp: 857.0000 - val_fp: 516.0000 - val_tn: 370.0000 - val_fn: 1.0000 - val_accuracy: 0.7036 - val_precision: 0.6242 - val_recall: 0.9988 - val_auc: 0.6734 - val_prc: 0.5895\n",
            "Epoch 17/100\n",
            "127/127 [==============================] - 0s 4ms/step - loss: 0.6044 - tp: 6752.0000 - fp: 4037.0000 - tn: 3849.0000 - fn: 1509.0000 - accuracy: 0.6565 - precision: 0.6258 - recall: 0.8173 - auc: 0.7079 - prc: 0.6689 - val_loss: 0.5892 - val_tp: 857.0000 - val_fp: 516.0000 - val_tn: 370.0000 - val_fn: 1.0000 - val_accuracy: 0.7036 - val_precision: 0.6242 - val_recall: 0.9988 - val_auc: 0.6497 - val_prc: 0.5671\n",
            "Epoch 18/100\n",
            "127/127 [==============================] - 0s 4ms/step - loss: 0.6029 - tp: 6809.0000 - fp: 4006.0000 - tn: 3880.0000 - fn: 1452.0000 - accuracy: 0.6620 - precision: 0.6296 - recall: 0.8242 - auc: 0.7113 - prc: 0.6744 - val_loss: 0.6042 - val_tp: 506.0000 - val_fp: 397.0000 - val_tn: 489.0000 - val_fn: 352.0000 - val_accuracy: 0.5705 - val_precision: 0.5604 - val_recall: 0.5897 - val_auc: 0.6437 - val_prc: 0.5657\n",
            "Epoch 19/100\n",
            "127/127 [==============================] - 0s 4ms/step - loss: 0.6018 - tp: 6506.0000 - fp: 3682.0000 - tn: 4204.0000 - fn: 1755.0000 - accuracy: 0.6633 - precision: 0.6386 - recall: 0.7876 - auc: 0.7127 - prc: 0.6726 - val_loss: 0.6109 - val_tp: 856.0000 - val_fp: 516.0000 - val_tn: 370.0000 - val_fn: 2.0000 - val_accuracy: 0.7030 - val_precision: 0.6239 - val_recall: 0.9977 - val_auc: 0.6536 - val_prc: 0.5810\n",
            "Epoch 20/100\n",
            "127/127 [==============================] - 0s 4ms/step - loss: 0.6028 - tp: 6530.0000 - fp: 3694.0000 - tn: 4192.0000 - fn: 1731.0000 - accuracy: 0.6640 - precision: 0.6387 - recall: 0.7905 - auc: 0.7091 - prc: 0.6655 - val_loss: 0.6091 - val_tp: 600.0000 - val_fp: 415.0000 - val_tn: 471.0000 - val_fn: 258.0000 - val_accuracy: 0.6141 - val_precision: 0.5911 - val_recall: 0.6993 - val_auc: 0.6326 - val_prc: 0.5444\n",
            "Epoch 21/100\n",
            "127/127 [==============================] - 0s 4ms/step - loss: 0.6037 - tp: 6796.0000 - fp: 3979.0000 - tn: 3907.0000 - fn: 1465.0000 - accuracy: 0.6628 - precision: 0.6307 - recall: 0.8227 - auc: 0.7086 - prc: 0.6664 - val_loss: 0.6019 - val_tp: 840.0000 - val_fp: 509.0000 - val_tn: 377.0000 - val_fn: 18.0000 - val_accuracy: 0.6978 - val_precision: 0.6227 - val_recall: 0.9790 - val_auc: 0.6504 - val_prc: 0.5699\n",
            "Epoch 22/100\n",
            "127/127 [==============================] - 0s 4ms/step - loss: 0.6017 - tp: 6556.0000 - fp: 3743.0000 - tn: 4143.0000 - fn: 1705.0000 - accuracy: 0.6626 - precision: 0.6366 - recall: 0.7936 - auc: 0.7113 - prc: 0.6717 - val_loss: 0.6142 - val_tp: 402.0000 - val_fp: 352.0000 - val_tn: 534.0000 - val_fn: 456.0000 - val_accuracy: 0.5367 - val_precision: 0.5332 - val_recall: 0.4685 - val_auc: 0.6230 - val_prc: 0.5500\n",
            "Epoch 23/100\n",
            "127/127 [==============================] - 0s 4ms/step - loss: 0.6076 - tp: 6588.0000 - fp: 3782.0000 - tn: 4104.0000 - fn: 1673.0000 - accuracy: 0.6622 - precision: 0.6353 - recall: 0.7975 - auc: 0.7086 - prc: 0.6694 - val_loss: 0.6039 - val_tp: 599.0000 - val_fp: 418.0000 - val_tn: 468.0000 - val_fn: 259.0000 - val_accuracy: 0.6118 - val_precision: 0.5890 - val_recall: 0.6981 - val_auc: 0.6476 - val_prc: 0.5677\n",
            "Epoch 24/100\n",
            "127/127 [==============================] - 0s 4ms/step - loss: 0.6009 - tp: 6278.0000 - fp: 3404.0000 - tn: 4482.0000 - fn: 1983.0000 - accuracy: 0.6664 - precision: 0.6484 - recall: 0.7600 - auc: 0.7157 - prc: 0.6761 - val_loss: 0.5884 - val_tp: 786.0000 - val_fp: 489.0000 - val_tn: 397.0000 - val_fn: 72.0000 - val_accuracy: 0.6783 - val_precision: 0.6165 - val_recall: 0.9161 - val_auc: 0.6554 - val_prc: 0.5787\n",
            "Epoch 25/100\n",
            "127/127 [==============================] - 1s 4ms/step - loss: 0.6058 - tp: 6489.0000 - fp: 3678.0000 - tn: 4208.0000 - fn: 1772.0000 - accuracy: 0.6625 - precision: 0.6382 - recall: 0.7855 - auc: 0.7057 - prc: 0.6646 - val_loss: 0.6194 - val_tp: 405.0000 - val_fp: 355.0000 - val_tn: 531.0000 - val_fn: 453.0000 - val_accuracy: 0.5367 - val_precision: 0.5329 - val_recall: 0.4720 - val_auc: 0.6416 - val_prc: 0.5654\n",
            "Epoch 26/100\n",
            "127/127 [==============================] - 0s 4ms/step - loss: 0.6036 - tp: 6483.0000 - fp: 3651.0000 - tn: 4235.0000 - fn: 1778.0000 - accuracy: 0.6638 - precision: 0.6397 - recall: 0.7848 - auc: 0.7123 - prc: 0.6725 - val_loss: 0.6120 - val_tp: 476.0000 - val_fp: 383.0000 - val_tn: 503.0000 - val_fn: 382.0000 - val_accuracy: 0.5614 - val_precision: 0.5541 - val_recall: 0.5548 - val_auc: 0.6523 - val_prc: 0.5767\n",
            "Epoch 27/100\n",
            "127/127 [==============================] - 0s 4ms/step - loss: 0.6094 - tp: 6462.0000 - fp: 3653.0000 - tn: 4233.0000 - fn: 1799.0000 - accuracy: 0.6624 - precision: 0.6389 - recall: 0.7822 - auc: 0.7070 - prc: 0.6683 - val_loss: 0.6010 - val_tp: 787.0000 - val_fp: 486.0000 - val_tn: 400.0000 - val_fn: 71.0000 - val_accuracy: 0.6806 - val_precision: 0.6182 - val_recall: 0.9172 - val_auc: 0.6547 - val_prc: 0.5758\n",
            "Epoch 28/100\n",
            "127/127 [==============================] - 1s 4ms/step - loss: 0.6155 - tp: 6778.0000 - fp: 4142.0000 - tn: 3744.0000 - fn: 1483.0000 - accuracy: 0.6516 - precision: 0.6207 - recall: 0.8205 - auc: 0.6920 - prc: 0.6548 - val_loss: 0.6083 - val_tp: 462.0000 - val_fp: 371.0000 - val_tn: 515.0000 - val_fn: 396.0000 - val_accuracy: 0.5602 - val_precision: 0.5546 - val_recall: 0.5385 - val_auc: 0.6505 - val_prc: 0.5715\n",
            "Epoch 29/100\n",
            "127/127 [==============================] - 0s 4ms/step - loss: 0.6082 - tp: 6466.0000 - fp: 3696.0000 - tn: 4190.0000 - fn: 1795.0000 - accuracy: 0.6599 - precision: 0.6363 - recall: 0.7827 - auc: 0.7047 - prc: 0.6675 - val_loss: 0.5939 - val_tp: 848.0000 - val_fp: 512.0000 - val_tn: 374.0000 - val_fn: 10.0000 - val_accuracy: 0.7007 - val_precision: 0.6235 - val_recall: 0.9883 - val_auc: 0.6499 - val_prc: 0.5777\n",
            "Epoch 30/100\n",
            "127/127 [==============================] - 0s 4ms/step - loss: 0.6055 - tp: 6351.0000 - fp: 3575.0000 - tn: 4311.0000 - fn: 1910.0000 - accuracy: 0.6603 - precision: 0.6398 - recall: 0.7688 - auc: 0.7064 - prc: 0.6687 - val_loss: 0.5988 - val_tp: 417.0000 - val_fp: 355.0000 - val_tn: 531.0000 - val_fn: 441.0000 - val_accuracy: 0.5436 - val_precision: 0.5402 - val_recall: 0.4860 - val_auc: 0.6525 - val_prc: 0.5720\n",
            "Epoch 31/100\n",
            "127/127 [==============================] - 0s 4ms/step - loss: 0.6054 - tp: 6397.0000 - fp: 3556.0000 - tn: 4330.0000 - fn: 1864.0000 - accuracy: 0.6643 - precision: 0.6427 - recall: 0.7744 - auc: 0.7090 - prc: 0.6704 - val_loss: 0.6088 - val_tp: 511.0000 - val_fp: 385.0000 - val_tn: 501.0000 - val_fn: 347.0000 - val_accuracy: 0.5803 - val_precision: 0.5703 - val_recall: 0.5956 - val_auc: 0.6515 - val_prc: 0.5707\n",
            "Epoch 32/100\n",
            "127/127 [==============================] - 0s 4ms/step - loss: 0.6063 - tp: 6303.0000 - fp: 3498.0000 - tn: 4388.0000 - fn: 1958.0000 - accuracy: 0.6621 - precision: 0.6431 - recall: 0.7630 - auc: 0.7080 - prc: 0.6680 - val_loss: 0.6080 - val_tp: 411.0000 - val_fp: 355.0000 - val_tn: 531.0000 - val_fn: 447.0000 - val_accuracy: 0.5401 - val_precision: 0.5366 - val_recall: 0.4790 - val_auc: 0.6516 - val_prc: 0.5774\n",
            "Epoch 33/100\n",
            "127/127 [==============================] - 0s 4ms/step - loss: 0.6015 - tp: 6212.0000 - fp: 3368.0000 - tn: 4518.0000 - fn: 2049.0000 - accuracy: 0.6645 - precision: 0.6484 - recall: 0.7520 - auc: 0.7105 - prc: 0.6704 - val_loss: 0.6142 - val_tp: 407.0000 - val_fp: 355.0000 - val_tn: 531.0000 - val_fn: 451.0000 - val_accuracy: 0.5378 - val_precision: 0.5341 - val_recall: 0.4744 - val_auc: 0.6317 - val_prc: 0.5591\n",
            "Epoch 34/100\n",
            "127/127 [==============================] - 1s 4ms/step - loss: 0.6063 - tp: 6422.0000 - fp: 3642.0000 - tn: 4244.0000 - fn: 1839.0000 - accuracy: 0.6606 - precision: 0.6381 - recall: 0.7774 - auc: 0.7039 - prc: 0.6627 - val_loss: 0.6008 - val_tp: 577.0000 - val_fp: 411.0000 - val_tn: 475.0000 - val_fn: 281.0000 - val_accuracy: 0.6032 - val_precision: 0.5840 - val_recall: 0.6725 - val_auc: 0.6460 - val_prc: 0.5674\n",
            "Epoch 35/100\n",
            "127/127 [==============================] - 0s 4ms/step - loss: 0.6163 - tp: 6739.0000 - fp: 4019.0000 - tn: 3867.0000 - fn: 1522.0000 - accuracy: 0.6568 - precision: 0.6264 - recall: 0.8158 - auc: 0.6914 - prc: 0.6520 - val_loss: 0.5676 - val_tp: 850.0000 - val_fp: 512.0000 - val_tn: 374.0000 - val_fn: 8.0000 - val_accuracy: 0.7018 - val_precision: 0.6241 - val_recall: 0.9907 - val_auc: 0.6659 - val_prc: 0.5896\n",
            "Epoch 36/100\n",
            "127/127 [==============================] - 1s 4ms/step - loss: 0.6068 - tp: 6592.0000 - fp: 3841.0000 - tn: 4045.0000 - fn: 1669.0000 - accuracy: 0.6588 - precision: 0.6318 - recall: 0.7980 - auc: 0.7048 - prc: 0.6627 - val_loss: 0.5776 - val_tp: 858.0000 - val_fp: 519.0000 - val_tn: 367.0000 - val_fn: 0.0000e+00 - val_accuracy: 0.7024 - val_precision: 0.6231 - val_recall: 1.0000 - val_auc: 0.6747 - val_prc: 0.5975\n",
            "Epoch 37/100\n",
            "127/127 [==============================] - 1s 4ms/step - loss: 0.6092 - tp: 6732.0000 - fp: 3992.0000 - tn: 3894.0000 - fn: 1529.0000 - accuracy: 0.6581 - precision: 0.6278 - recall: 0.8149 - auc: 0.7000 - prc: 0.6617 - val_loss: 0.5906 - val_tp: 858.0000 - val_fp: 515.0000 - val_tn: 371.0000 - val_fn: 0.0000e+00 - val_accuracy: 0.7047 - val_precision: 0.6249 - val_recall: 1.0000 - val_auc: 0.6726 - val_prc: 0.5920\n",
            "Epoch 38/100\n",
            "127/127 [==============================] - 0s 4ms/step - loss: 0.6050 - tp: 6302.0000 - fp: 3486.0000 - tn: 4400.0000 - fn: 1959.0000 - accuracy: 0.6628 - precision: 0.6438 - recall: 0.7629 - auc: 0.7067 - prc: 0.6660 - val_loss: 0.5922 - val_tp: 855.0000 - val_fp: 516.0000 - val_tn: 370.0000 - val_fn: 3.0000 - val_accuracy: 0.7024 - val_precision: 0.6236 - val_recall: 0.9965 - val_auc: 0.6517 - val_prc: 0.5768\n",
            "Epoch 39/100\n",
            "127/127 [==============================] - 0s 4ms/step - loss: 0.6060 - tp: 6483.0000 - fp: 3687.0000 - tn: 4199.0000 - fn: 1778.0000 - accuracy: 0.6615 - precision: 0.6375 - recall: 0.7848 - auc: 0.7064 - prc: 0.6663 - val_loss: 0.6239 - val_tp: 401.0000 - val_fp: 352.0000 - val_tn: 534.0000 - val_fn: 457.0000 - val_accuracy: 0.5361 - val_precision: 0.5325 - val_recall: 0.4674 - val_auc: 0.6448 - val_prc: 0.5744\n",
            "Epoch 40/100\n",
            "127/127 [==============================] - 0s 4ms/step - loss: 0.6065 - tp: 6456.0000 - fp: 3667.0000 - tn: 4219.0000 - fn: 1805.0000 - accuracy: 0.6611 - precision: 0.6378 - recall: 0.7815 - auc: 0.7015 - prc: 0.6602 - val_loss: 0.5903 - val_tp: 843.0000 - val_fp: 515.0000 - val_tn: 371.0000 - val_fn: 15.0000 - val_accuracy: 0.6961 - val_precision: 0.6208 - val_recall: 0.9825 - val_auc: 0.6506 - val_prc: 0.5807\n",
            "Epoch 41/100\n",
            "127/127 [==============================] - 1s 4ms/step - loss: 0.6095 - tp: 6681.0000 - fp: 3933.0000 - tn: 3953.0000 - fn: 1580.0000 - accuracy: 0.6586 - precision: 0.6295 - recall: 0.8087 - auc: 0.6963 - prc: 0.6579 - val_loss: 0.6018 - val_tp: 430.0000 - val_fp: 364.0000 - val_tn: 522.0000 - val_fn: 428.0000 - val_accuracy: 0.5459 - val_precision: 0.5416 - val_recall: 0.5012 - val_auc: 0.6494 - val_prc: 0.5805\n",
            "Epoch 42/100\n",
            "127/127 [==============================] - 0s 4ms/step - loss: 0.6033 - tp: 6092.0000 - fp: 3304.0000 - tn: 4582.0000 - fn: 2169.0000 - accuracy: 0.6611 - precision: 0.6484 - recall: 0.7374 - auc: 0.7075 - prc: 0.6678 - val_loss: 0.6144 - val_tp: 450.0000 - val_fp: 367.0000 - val_tn: 519.0000 - val_fn: 408.0000 - val_accuracy: 0.5556 - val_precision: 0.5508 - val_recall: 0.5245 - val_auc: 0.6344 - val_prc: 0.5584\n",
            "Epoch 43/100\n",
            "127/127 [==============================] - 1s 4ms/step - loss: 0.6030 - tp: 6193.0000 - fp: 3314.0000 - tn: 4572.0000 - fn: 2068.0000 - accuracy: 0.6667 - precision: 0.6514 - recall: 0.7497 - auc: 0.7075 - prc: 0.6678 - val_loss: 0.6036 - val_tp: 856.0000 - val_fp: 520.0000 - val_tn: 366.0000 - val_fn: 2.0000 - val_accuracy: 0.7007 - val_precision: 0.6221 - val_recall: 0.9977 - val_auc: 0.6507 - val_prc: 0.5773\n",
            "Epoch 44/100\n",
            "127/127 [==============================] - 0s 4ms/step - loss: 0.6046 - tp: 6461.0000 - fp: 3672.0000 - tn: 4214.0000 - fn: 1800.0000 - accuracy: 0.6611 - precision: 0.6376 - recall: 0.7821 - auc: 0.7037 - prc: 0.6628 - val_loss: 0.6052 - val_tp: 447.0000 - val_fp: 369.0000 - val_tn: 517.0000 - val_fn: 411.0000 - val_accuracy: 0.5528 - val_precision: 0.5478 - val_recall: 0.5210 - val_auc: 0.6469 - val_prc: 0.5770\n",
            "Epoch 45/100\n",
            "127/127 [==============================] - 0s 4ms/step - loss: 0.6038 - tp: 6279.0000 - fp: 3455.0000 - tn: 4431.0000 - fn: 1982.0000 - accuracy: 0.6633 - precision: 0.6451 - recall: 0.7601 - auc: 0.7089 - prc: 0.6669 - val_loss: 0.6168 - val_tp: 413.0000 - val_fp: 355.0000 - val_tn: 531.0000 - val_fn: 445.0000 - val_accuracy: 0.5413 - val_precision: 0.5378 - val_recall: 0.4814 - val_auc: 0.6353 - val_prc: 0.5542\n",
            "Epoch 46/100\n",
            "127/127 [==============================] - 1s 4ms/step - loss: 0.6028 - tp: 6406.0000 - fp: 3656.0000 - tn: 4230.0000 - fn: 1855.0000 - accuracy: 0.6587 - precision: 0.6367 - recall: 0.7755 - auc: 0.7064 - prc: 0.6668 - val_loss: 0.6046 - val_tp: 502.0000 - val_fp: 388.0000 - val_tn: 498.0000 - val_fn: 356.0000 - val_accuracy: 0.5734 - val_precision: 0.5640 - val_recall: 0.5851 - val_auc: 0.6440 - val_prc: 0.5651\n",
            "Epoch 47/100\n",
            "127/127 [==============================] - 0s 4ms/step - loss: 0.6044 - tp: 6391.0000 - fp: 3593.0000 - tn: 4293.0000 - fn: 1870.0000 - accuracy: 0.6617 - precision: 0.6401 - recall: 0.7736 - auc: 0.7036 - prc: 0.6605 - val_loss: 0.6124 - val_tp: 856.0000 - val_fp: 536.0000 - val_tn: 350.0000 - val_fn: 2.0000 - val_accuracy: 0.6915 - val_precision: 0.6149 - val_recall: 0.9977 - val_auc: 0.6458 - val_prc: 0.5705\n",
            "Epoch 48/100\n",
            "127/127 [==============================] - 1s 4ms/step - loss: 0.6077 - tp: 6435.0000 - fp: 3647.0000 - tn: 4239.0000 - fn: 1826.0000 - accuracy: 0.6611 - precision: 0.6383 - recall: 0.7790 - auc: 0.6989 - prc: 0.6572 - val_loss: 0.6083 - val_tp: 430.0000 - val_fp: 364.0000 - val_tn: 522.0000 - val_fn: 428.0000 - val_accuracy: 0.5459 - val_precision: 0.5416 - val_recall: 0.5012 - val_auc: 0.6551 - val_prc: 0.5796\n",
            "Epoch 49/100\n",
            "127/127 [==============================] - 0s 4ms/step - loss: 0.6051 - tp: 6079.0000 - fp: 3266.0000 - tn: 4620.0000 - fn: 2182.0000 - accuracy: 0.6626 - precision: 0.6505 - recall: 0.7359 - auc: 0.7023 - prc: 0.6599 - val_loss: 0.6023 - val_tp: 407.0000 - val_fp: 354.0000 - val_tn: 532.0000 - val_fn: 451.0000 - val_accuracy: 0.5384 - val_precision: 0.5348 - val_recall: 0.4744 - val_auc: 0.6467 - val_prc: 0.5748\n",
            "Epoch 50/100\n",
            "127/127 [==============================] - 1s 4ms/step - loss: 0.6042 - tp: 6356.0000 - fp: 3517.0000 - tn: 4369.0000 - fn: 1905.0000 - accuracy: 0.6642 - precision: 0.6438 - recall: 0.7694 - auc: 0.7073 - prc: 0.6692 - val_loss: 0.6099 - val_tp: 531.0000 - val_fp: 390.0000 - val_tn: 496.0000 - val_fn: 327.0000 - val_accuracy: 0.5889 - val_precision: 0.5765 - val_recall: 0.6189 - val_auc: 0.6574 - val_prc: 0.5805\n",
            "Restoring model weights from the end of the best epoch.\n",
            "Epoch 00050: early stopping\n"
          ]
        }
      ]
    },
    {
      "cell_type": "markdown",
      "metadata": {
        "id": "GOXSwGdK_SvT"
      },
      "source": [
        "## Resultados\n"
      ]
    },
    {
      "cell_type": "markdown",
      "metadata": {
        "id": "gFWhVLb9__Mu"
      },
      "source": [
        "Def. Plots"
      ]
    },
    {
      "cell_type": "code",
      "metadata": {
        "id": "GQLjgWCB_o98"
      },
      "source": [
        "def plot_metrics(history):\n",
        "  metrics = ['loss', 'prc', 'precision', 'recall']\n",
        "  for n, metric in enumerate(metrics):\n",
        "    name = metric.replace(\"_\",\" \").capitalize()\n",
        "    plt.subplot(2,2,n+1)\n",
        "    plt.plot(history.epoch, history.history[metric], color=colors[0], label='Treinamento')\n",
        "    plt.plot(history.epoch, history.history['val_'+metric],\n",
        "             color=colors[0], linestyle=\"--\", label='Validação')\n",
        "    plt.xlabel('Rodada', fontsize = 18)\n",
        "    plt.ylabel(name)\n",
        "    if metric == 'loss':\n",
        "      plt.ylim([0, plt.ylim()[1]])\n",
        "    elif metric == 'auc':\n",
        "      plt.ylim([0.8,1])\n",
        "    else:\n",
        "      plt.ylim([0,1])\n",
        "\n",
        "    plt.legend()\n",
        "\n",
        "\n",
        "def plot_cm(labels, predictions, p=0.5):\n",
        "  cm = confusion_matrix(labels, predictions > p)\n",
        "  plt.figure(figsize=(5,5))\n",
        "  sns.heatmap(cm, annot=True, fmt=\"d\")\n",
        "  plt.title('Confusion matrix @{:.2f}'.format(p))\n",
        "  plt.ylabel('Actual label', fontsize = 18)\n",
        "  plt.xlabel('Predicted label', fontsize = 18)\n",
        "\n",
        "  print('Verdadeiro-negativos: ', cm[0][0])\n",
        "  print('Falso-positivos: ', cm[0][1])\n",
        "  print('Falso-negativos: ', cm[1][0])\n",
        "  print('Verdadeiro-positivos: ', cm[1][1])\n",
        "  print('Total: ', np.sum(cm[1]))\n",
        "\n",
        "def plot_roc(name, labels, predictions, **kwargs):\n",
        "  fp, tp, _ = sklearn.metrics.roc_curve(labels, predictions)\n",
        "\n",
        "  plt.plot(100*fp, 100*tp, label=name, linewidth=2, **kwargs)\n",
        "  plt.xlabel('FPR [%]', fontsize = 18)\n",
        "  plt.ylabel('TPR [%]', fontsize = 18)\n",
        "  plt.grid(True)\n",
        "  ax = plt.gca()\n",
        "  ax.set_aspect('equal')\n",
        "\n",
        "\n",
        "def plot_prc(name, labels, predictions, **kwargs):\n",
        "    precision, recall, _ = sklearn.metrics.precision_recall_curve(labels, predictions)\n",
        "\n",
        "    plt.plot(precision, recall, label=name, linewidth=2, **kwargs)\n",
        "    plt.xlabel('TPR (Recall)', fontsize = 18)\n",
        "    plt.ylabel('PPV (Precision)', fontsize = 18)\n",
        "    plt.grid(True)\n",
        "    ax = plt.gca()\n",
        "    ax.set_aspect('equal')"
      ],
      "execution_count": null,
      "outputs": []
    },
    {
      "cell_type": "markdown",
      "metadata": {
        "id": "u3-uGpfSAVMN"
      },
      "source": [
        "Plots"
      ]
    },
    {
      "cell_type": "code",
      "metadata": {
        "colab": {
          "base_uri": "https://localhost:8080/",
          "height": 726
        },
        "id": "cy-ynPy0_sdp",
        "outputId": "a86eb12b-77b9-4bd9-d4ca-d0dfdaab8ad8"
      },
      "source": [
        "plot_metrics(baseline_history)"
      ],
      "execution_count": null,
      "outputs": [
        {
          "output_type": "display_data",
          "data": {
            "image/png": "[encoded data removed]",
            "text/plain": [
              "<Figure size 1152x864 with 4 Axes>"
            ]
          },
          "metadata": {
            "needs_background": "light"
          }
        }
      ]
    },
    {
      "cell_type": "markdown",
      "metadata": {
        "id": "sJ55Dfz2APW-"
      },
      "source": [
        "Matriz de confusão"
      ]
    },
    {
      "cell_type": "code",
      "metadata": {
        "colab": {
          "base_uri": "https://localhost:8080/",
          "height": 636
        },
        "id": "dOnYP_On_uy6",
        "outputId": "70616727-4548-49d4-cf91-c9e2f646a34f"
      },
      "source": [
        "train_predictions_baseline = model.predict(X_train, batch_size=BATCH_SIZE)\n",
        "test_predictions_baseline = model.predict(X_test, batch_size=BATCH_SIZE)\n",
        "\n",
        "baseline_results = model.evaluate(X_test, y_test,\n",
        "                                  batch_size=BATCH_SIZE, verbose=0)\n",
        "for name, value in zip(model.metrics_names, baseline_results):\n",
        "  print(name, ': ', value)\n",
        "print()\n",
        "\n",
        "plot_cm(y_test, test_predictions_baseline)"
      ],
      "execution_count": null,
      "outputs": [
        {
          "output_type": "stream",
          "name": "stdout",
          "text": [
            "loss :  0.5563344955444336\n",
            "tp :  1003.0\n",
            "fp :  485.0\n",
            "tn :  369.0\n",
            "fn :  50.0\n",
            "accuracy :  0.7194546461105347\n",
            "precision :  0.6740591526031494\n",
            "recall :  0.9525166153907776\n",
            "auc :  0.7527350187301636\n",
            "prc :  0.7722299695014954\n",
            "\n",
            "Verdadeiro-negativos:  369\n",
            "Falso-positivos:  485\n",
            "Falso-negativos:  50\n",
            "Verdadeiro-positivos:  1003\n",
            "Total:  1053\n"
          ]
        },
        {
          "output_type": "display_data",
          "data": {
            "image/png": "[encoded data removed]",
            "text/plain": [
              "<Figure size 360x360 with 2 Axes>"
            ]
          },
          "metadata": {
            "needs_background": "light"
          }
        }
      ]
    },
    {
      "cell_type": "markdown",
      "metadata": {
        "id": "4xPJLUR9AbjO"
      },
      "source": [
        "ROC"
      ]
    },
    {
      "cell_type": "code",
      "metadata": {
        "colab": {
          "base_uri": "https://localhost:8080/",
          "height": 739
        },
        "id": "83h19D76AcFR",
        "outputId": "f2d78427-d0e6-4449-e25d-c2b0f67f7c1a"
      },
      "source": [
        "plot_roc(\"Base de dados de treinamento\", y_train, train_predictions_baseline, color=colors[0])\n",
        "plot_roc(\"Base de dados de teste\", y_test, test_predictions_baseline, color=colors[0], linestyle='--')\n",
        "plt.legend(loc='lower right')"
      ],
      "execution_count": null,
      "outputs": [
        {
          "output_type": "execute_result",
          "data": {
            "text/plain": [
              "<matplotlib.legend.Legend at 0x7f30915614d0>"
            ]
          },
          "metadata": {},
          "execution_count": 35
        },
        {
          "output_type": "display_data",
          "data": {
            "image/png": "[encoded data removed]",
            "text/plain": [
              "<Figure size 1152x864 with 1 Axes>"
            ]
          },
          "metadata": {
            "needs_background": "light"
          }
        }
      ]
    },
    {
      "cell_type": "markdown",
      "metadata": {
        "id": "G0V5gKGjAfly"
      },
      "source": [
        "PRC"
      ]
    },
    {
      "cell_type": "code",
      "metadata": {
        "colab": {
          "base_uri": "https://localhost:8080/",
          "height": 739
        },
        "id": "61ckUSjfAfG4",
        "outputId": "cb5b839a-bbc1-4c97-89b2-ae61b4b03584"
      },
      "source": [
        "plot_prc(\"Base de dados de treinamento\", y_train, train_predictions_baseline, color=colors[0])\n",
        "plot_prc(\"Base de dados de teste\", y_test, test_predictions_baseline, color=colors[0], linestyle='--')\n",
        "plt.legend(loc='upper right')"
      ],
      "execution_count": null,
      "outputs": [
        {
          "output_type": "execute_result",
          "data": {
            "text/plain": [
              "<matplotlib.legend.Legend at 0x7f309187d190>"
            ]
          },
          "metadata": {},
          "execution_count": 36
        },
        {
          "output_type": "display_data",
          "data": {
            "image/png": "[encoded data removed]",
            "text/plain": [
              "<Figure size 1152x864 with 1 Axes>"
            ]
          },
          "metadata": {
            "needs_background": "light"
          }
        }
      ]
    }
  ]
}