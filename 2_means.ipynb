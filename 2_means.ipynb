{
  "nbformat": 4,
  "nbformat_minor": 0,
  "metadata": {
    "colab": {
      "name": "Kmeans.ipynb",
      "provenance": [],
      "mount_file_id": "1d-VgjhW422PYU2o6CBCtqma_WIjDnj6K",
      "authorship_tag": "ABX9TyOMqQ3InPxcajk0uISojsXY",
      "include_colab_link": true
    },
    "kernelspec": {
      "name": "python3",
      "display_name": "Python 3"
    },
    "language_info": {
      "name": "python"
    }
  },
  "cells": [
    {
      "cell_type": "markdown",
      "metadata": {
        "id": "view-in-github",
        "colab_type": "text"
      },
      "source": [
        "<a href=\"https://colab.research.google.com/github/renatossilva/DoctoralThesis/blob/main/2_means.ipynb\" target=\"_parent\"><img src=\"https://colab.research.google.com/assets/colab-badge.svg\" alt=\"Open In Colab\"/></a>"
      ]
    },
    {
      "cell_type": "code",
      "metadata": {
        "id": "28pmCHehaZYR"
      },
      "source": [
        "import seaborn as sns\n",
        "import pandas as pd\n",
        "import matplotlib.pyplot as plt\n",
        "\n"
      ],
      "execution_count": null,
      "outputs": []
    },
    {
      "cell_type": "code",
      "metadata": {
        "id": "e_fqWGyFaeHV"
      },
      "source": [
        "df = pd.read_csv('2-means-3.txt')"
      ],
      "execution_count": null,
      "outputs": []
    },
    {
      "cell_type": "code",
      "metadata": {
        "colab": {
          "base_uri": "https://localhost:8080/",
          "height": 324
        },
        "id": "XDxHxRJydbYF",
        "outputId": "d93e8a8f-1605-495d-f78f-6921c8cec0e3"
      },
      "source": [
        "df"
      ],
      "execution_count": null,
      "outputs": [
        {
          "output_type": "execute_result",
          "data": {
            "text/html": [
              "<div>\n",
              "<style scoped>\n",
              "    .dataframe tbody tr th:only-of-type {\n",
              "        vertical-align: middle;\n",
              "    }\n",
              "\n",
              "    .dataframe tbody tr th {\n",
              "        vertical-align: top;\n",
              "    }\n",
              "\n",
              "    .dataframe thead th {\n",
              "        text-align: right;\n",
              "    }\n",
              "</style>\n",
              "<table border=\"1\" class=\"dataframe\">\n",
              "  <thead>\n",
              "    <tr style=\"text-align: right;\">\n",
              "      <th></th>\n",
              "      <th>AS_peer</th>\n",
              "      <th>Grupo_A</th>\n",
              "      <th>Grupo_B</th>\n",
              "      <th>Dataset</th>\n",
              "    </tr>\n",
              "  </thead>\n",
              "  <tbody>\n",
              "    <tr>\n",
              "      <th>0</th>\n",
              "      <td>6893</td>\n",
              "      <td>3537</td>\n",
              "      <td>9980</td>\n",
              "      <td>2</td>\n",
              "    </tr>\n",
              "    <tr>\n",
              "      <th>1</th>\n",
              "      <td>559</td>\n",
              "      <td>1353</td>\n",
              "      <td>1927</td>\n",
              "      <td>2</td>\n",
              "    </tr>\n",
              "    <tr>\n",
              "      <th>2</th>\n",
              "      <td>513</td>\n",
              "      <td>1339</td>\n",
              "      <td>5129</td>\n",
              "      <td>2</td>\n",
              "    </tr>\n",
              "    <tr>\n",
              "      <th>3</th>\n",
              "      <td>6893</td>\n",
              "      <td>3010</td>\n",
              "      <td>1163</td>\n",
              "      <td>0</td>\n",
              "    </tr>\n",
              "    <tr>\n",
              "      <th>4</th>\n",
              "      <td>559</td>\n",
              "      <td>1443</td>\n",
              "      <td>459</td>\n",
              "      <td>0</td>\n",
              "    </tr>\n",
              "    <tr>\n",
              "      <th>5</th>\n",
              "      <td>513</td>\n",
              "      <td>1923</td>\n",
              "      <td>1903</td>\n",
              "      <td>0</td>\n",
              "    </tr>\n",
              "    <tr>\n",
              "      <th>6</th>\n",
              "      <td>6893</td>\n",
              "      <td>3530</td>\n",
              "      <td>9073</td>\n",
              "      <td>1</td>\n",
              "    </tr>\n",
              "    <tr>\n",
              "      <th>7</th>\n",
              "      <td>559</td>\n",
              "      <td>1055</td>\n",
              "      <td>1146</td>\n",
              "      <td>1</td>\n",
              "    </tr>\n",
              "    <tr>\n",
              "      <th>8</th>\n",
              "      <td>513</td>\n",
              "      <td>1153</td>\n",
              "      <td>3192</td>\n",
              "      <td>1</td>\n",
              "    </tr>\n",
              "  </tbody>\n",
              "</table>\n",
              "</div>"
            ],
            "text/plain": [
              "   AS_peer  Grupo_A  Grupo_B  Dataset\n",
              "0     6893     3537     9980        2\n",
              "1      559     1353     1927        2\n",
              "2      513     1339     5129        2\n",
              "3     6893     3010     1163        0\n",
              "4      559     1443      459        0\n",
              "5      513     1923     1903        0\n",
              "6     6893     3530     9073        1\n",
              "7      559     1055     1146        1\n",
              "8      513     1153     3192        1"
            ]
          },
          "metadata": {},
          "execution_count": 8
        }
      ]
    },
    {
      "cell_type": "code",
      "metadata": {
        "id": "DSLLbKruc7LH"
      },
      "source": [
        "df['Grupo_A'] = pd.to_numeric(df['Grupo_A'])\n",
        "df['Grupo_B'] = pd.to_numeric(df['Grupo_B'])\n",
        "df['Dataset'] = pd.to_numeric(df['Dataset'])\n"
      ],
      "execution_count": null,
      "outputs": []
    },
    {
      "cell_type": "code",
      "metadata": {
        "id": "NtGpdzEve36N"
      },
      "source": [
        "sns.set(rc={'figure.figsize':(15,8)}, font_scale=1.5)"
      ],
      "execution_count": null,
      "outputs": []
    },
    {
      "cell_type": "code",
      "metadata": {
        "colab": {
          "base_uri": "https://localhost:8080/",
          "height": 532
        },
        "id": "CqNo1yDXae9W",
        "outputId": "2d1ebf15-90fa-4d20-9dea-30f2318c7435"
      },
      "source": [
        "sns.scatterplot(data=df, x='Grupo_A', y='Grupo_B', hue='AS_peer', style='Dataset', palette=sns.color_palette(\"hls\", 3), s = 200)\n",
        "plt.legend(loc='upper left', fontsize = 'small',markerscale=2.)\n"
      ],
      "execution_count": null,
      "outputs": [
        {
          "output_type": "execute_result",
          "data": {
            "text/plain": [
              "<matplotlib.legend.Legend at 0x7f0b19f1be10>"
            ]
          },
          "metadata": {},
          "execution_count": 24
        },
        {
          "output_type": "display_data",
          "data": {
            "image/png": "[encoded data removed]",
            "text/plain": [
              "<Figure size 1080x576 with 1 Axes>"
            ]
          },
          "metadata": {}
        }
      ]
    }
  ]
}